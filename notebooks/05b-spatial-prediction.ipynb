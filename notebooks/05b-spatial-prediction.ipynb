{
 "cells": [
  {
   "cell_type": "markdown",
   "metadata": {},
   "source": [
    "# Spatial Prediction\n",
    "\n",
    "<hr>"
   ]
  },
  {
   "cell_type": "markdown",
   "metadata": {},
   "source": [
    "**How to Model Covariance Matrices?**<br>\n",
    "Often, we will be in a situation where we have made some observations of a certain location, but do not have the covariances with another location.\n",
    "\n",
    "One can assume that the covariance between a pair of cities can be determined by its distance (spatial correlation). In this case,\n",
    "\n",
    "$\\displaystyle  \\textsf{Cov}(X_1,X_2) = k(Z_1,Z_2)$\n",
    "\n",
    "where $k(Z_1, Z_2)$ is some covariance function, for example, RBF kernel (squared exponential), which decays exponentially\n",
    "\n",
    "$\\displaystyle  \\textsf{Cov}(X_1,X_2) = k(Z_1, Z_2) = \\exp (- \\frac{\\| Z_1 - Z_2\\| ^2}{2\\ell ^2})$\n",
    "\n",
    "where $\\ell$ is a parameter to be estimated, called the **length-scale**. Covariance functions often go by the name **kernels** ($k$) as well, which are a broader class of functions.\n",
    "\n",
    "$\n",
    "\\displaystyle  \\mathbf{\\Sigma_N} = \\begin{bmatrix}  \\mathbf{k(x_1, x_1)} &  \\mathbf{k(x_1, x_2)}\\\\ \\mathbf{k(x_2, x_1)} &  \\mathbf{k(x_2, x_2)} \\end{bmatrix}\n",
    "$\n",
    "\n",
    "which is also called a kernel ($k$) matrix, $K_N$\n",
    "\n",
    "\n",
    "High-level idea: \n",
    "- Determine a probabilistic model, a multivariate Gaussian with a prior covariance which is decaying with distance\n",
    "- Observe values $y_1, \\dots, y_N$ for some locations, $x_1, \\dots, x_N$\n",
    "- Obtain a posterior distribution for the unobserved variables $Y_*$: $p(Y_* | y_1, \\dots, y_N)$ Gaussian\n",
    "\n",
    "Interpolation with Gaussian processes ([Kriging](https://en.wikipedia.org/wiki/Kriging))\n",
    "- Build a kernel matrix $K_N$ of $N$ observations\n",
    "- For a new point $x_*$: compute a vector $k_*^T = [k(x_*, x_1), \\dots, k(x_*, x_N)]$\n",
    "\n",
    "    $\\mu_{*|1:N} = \\mu_{*} + k_{*}^T K_{N}^{-1} (y_{1:N} - \\mu_{1:N})$\n",
    "    \n",
    "    $\\sigma_{*|1:N}^2 = \\sigma_*^2 - k_{*}^T K_{N}^{-1} k_*$\n",
    "\n",
    "<img alt=\"Kriging\" src=\"assets/kriging.jpg\" width=\"300\">\n",
    "\n",
    "<img alt=\"Kriging with temperature sensors\" src=\"assets/kriging_temperatures.jpg\" width=\"600\">\n",
    "\n",
    "<hr>\n",
    "\n",
    "**Kernel functions**\n",
    "\n",
    "\n",
    "<hr>"
   ]
  },
  {
   "cell_type": "markdown",
   "metadata": {},
   "source": [
    "# Basic code\n",
    "A `minimal, reproducible example`"
   ]
  },
  {
   "cell_type": "code",
   "execution_count": null,
   "metadata": {},
   "outputs": [],
   "source": []
  }
 ],
 "metadata": {
  "kernelspec": {
   "display_name": "Python 3",
   "language": "python",
   "name": "python3"
  },
  "language_info": {
   "codemirror_mode": {
    "name": "ipython",
    "version": 3
   },
   "file_extension": ".py",
   "mimetype": "text/x-python",
   "name": "python",
   "nbconvert_exporter": "python",
   "pygments_lexer": "ipython3",
   "version": "3.8.11"
  },
  "toc": {
   "base_numbering": 1,
   "nav_menu": {},
   "number_sections": true,
   "sideBar": true,
   "skip_h1_title": false,
   "title_cell": "Table of Contents",
   "title_sidebar": "Contents",
   "toc_cell": false,
   "toc_position": {},
   "toc_section_display": true,
   "toc_window_display": false
  }
 },
 "nbformat": 4,
 "nbformat_minor": 2
}
