{
 "cells": [
  {
   "cell_type": "markdown",
   "metadata": {},
   "source": [
    "# Spatial Prediction\n",
    "\n",
    "<hr>"
   ]
  },
  {
   "cell_type": "markdown",
   "metadata": {},
   "source": [
    "**How to Model Covariance Matrices?**<br>\n",
    "Often, we will be in a situation where we have made some observations of a certain location, but do not have the covariances with another location.\n",
    "\n",
    "One can assume that the covariance between a pair of cities can be determined by its distance. In this case,\n",
    "\n",
    "$\\displaystyle  \\textsf{Cov}(X_1,X_2) = k(Z_1,Z_2)$\n",
    "\n",
    "where $k(Z_1, Z_2)$ is some covariance function, for example,\n",
    "\n",
    "$k(Z_1, Z_2) = \\exp (- \\frac{\\| Z_1 - Z_2\\| ^2}{2\\ell ^2})$\n",
    "\n",
    "where $\\ell$ is a parameter to be estimated, called the **length-scale**. Covariance functions often go by the name **kernels** as well, which are a broader class of functions.\n",
    "\n",
    "An example of generating a covariance matrix from a covariance function:\n",
    "\n",
    "\n",
    "\n",
    "<hr>\n",
    "\n",
    "**Topic 2**\n",
    "\n",
    "\n",
    "<hr>"
   ]
  },
  {
   "cell_type": "markdown",
   "metadata": {},
   "source": [
    "# Basic code\n",
    "A `minimal, reproducible example`"
   ]
  },
  {
   "cell_type": "code",
   "execution_count": null,
   "metadata": {},
   "outputs": [],
   "source": []
  }
 ],
 "metadata": {
  "kernelspec": {
   "display_name": "Python 3",
   "language": "python",
   "name": "python3"
  },
  "language_info": {
   "codemirror_mode": {
    "name": "ipython",
    "version": 3
   },
   "file_extension": ".py",
   "mimetype": "text/x-python",
   "name": "python",
   "nbconvert_exporter": "python",
   "pygments_lexer": "ipython3",
   "version": "3.8.11"
  },
  "toc": {
   "base_numbering": 1,
   "nav_menu": {},
   "number_sections": true,
   "sideBar": true,
   "skip_h1_title": false,
   "title_cell": "Table of Contents",
   "title_sidebar": "Contents",
   "toc_cell": false,
   "toc_position": {},
   "toc_section_display": true,
   "toc_window_display": false
  }
 },
 "nbformat": 4,
 "nbformat_minor": 2
}
