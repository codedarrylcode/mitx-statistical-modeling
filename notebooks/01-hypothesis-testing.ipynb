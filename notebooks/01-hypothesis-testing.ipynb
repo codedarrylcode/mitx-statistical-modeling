{
 "cells": [
  {
   "cell_type": "markdown",
   "metadata": {},
   "source": [
    "# Hypothesis Testing\n",
    "> The role of hypothesis testing is to asssess how significant is the effect caused by treatment\n",
    "\n",
    "This involves calculating the probability under a given model that an observation equal to or more extreme than what is observed in the treatment group is being obtained, conditioned on the treatment having no effect, i.e. *what is the probability of observing this effect by chance?*\n",
    "<hr>"
   ]
  },
  {
   "cell_type": "markdown",
   "metadata": {},
   "source": [
    "**General steps**\n",
    "1. Determine a model\n",
    "\n",
    "    &emsp;$X_1, \\dots, X_n \\sim Ber(p)$ or $Y \\sim Poisson(\\lambda)$\n",
    "    <br>\n",
    "\n",
    "1. Determine a (mutually exclusive) null and alternative hypothesis\n",
    "\n",
    "    &emsp;Null ($H_0$): &emsp;&emsp;&emsp;&emsp;p = 0.05<br>\n",
    "    &emsp;Alternative ($H_1$): &nbsp;p > 0.05\n",
    "    <br>\n",
    "\n",
    "1. Determine a test statistic (quantity to differentiate hypothesis and whose distribution under $H_0$ can be computed):\n",
    "\n",
    "    &emsp;$T:=$ Number of deaths under $H_0$<br>\n",
    "    &emsp;$T \\sim Bin(n, 0.05)$\n",
    "    <br>\n",
    "\n",
    "1. Determine a significance level ($\\alpha$), i.e. the probability of rejecting $H_0$ when $H_0$ is true. A typical value chosen: $\\alpha = 0.05$\n",
    "\n",
    "****\n",
    "\n",
    "**Errors and its relationships**<br>\n",
    "\n",
    "**Type I error** ($\\alpha$, false +ves): Reject $H_0$ when $H_0$ is actually true<br>\n",
    "**Type II error** ($\\beta$, false -ves): Not reject $H_0$ when $H_1$ is actually true<br>\n",
    "**Power**: 1 - $\\beta$; How well is the experiment able to detect significance when $H_0$ is not true?<br>\n",
    "\n",
    "- There is a clear trade-off between Type I and II errors; increasing power (i.e. increasing power typically requires a decrease in $\\alpha$)\n",
    "- In the chart below, blue indicates under $\\alpha$ and blue+orange indicates power (1 - $\\beta$)\n",
    "- $\\therefore \\beta$ is the unshaded area under orange\n",
    "\n",
    "<img alt=\"P-Value vs Power\" src=\"assets/images_power.png\" width=\"300\">\n",
    "\n",
    "****\n",
    "\n",
    "**Fisher's Exact Test**<br>\n",
    "A method based on the hypergeometric distribution - a **discrete** distribution based on the following:\n",
    "\n",
    "> Suppose there are N balls in a bowl, K of which are red and the remaining N - K of which are blue. From the bowl, n balls are drawn without replacement. What is the probability that among the n balls drawn, exactly x are red?\n",
    "\n",
    "<img alt=\"notes-3dd5caf0.png\" src=\"assets/notes-3dd5caf0.png\" width=\"\" height=\"\" >\n",
    "\n",
    "- This test assumes no knowledge on the true probability\n",
    "- Suppose an experiment with the following parameters:\n",
    "  - N = 62,000 (control+treatment)\n",
    "  - K = 31,000 (treatment)\n",
    "  - M = 102 (control+treatment discrete outcomes, e.g. balls)\n",
    "  - $T \\sim Hypergeometric(62000, 31000, 102)$\n",
    "  - p-value, $P(T <= t) = \\sum_{i = 0}^{t}P(T = i)$ where $t$ is the number of discrete outcomes in treatment group\n",
    "  \n",
    "****\n",
    "\n",
    "**Paired test design**<br>\n",
    "Involves taking multiple samples from an individual, without splitting a group into control vs treatment - increases the power of the test. Need to ensure that units are blinded from treatment.\n",
    "\n",
    "In a paired test, it is the difference between pre-post treatment observed values that will be considered.\n",
    "\n",
    "$Y := X_{post} - X_{pre}$<br>\n",
    "\n",
    "$H_0: Y = 0$ or $E[Y] = 0$<br>\n",
    "$H_1: Y > 0$ or $E[Y] > 0$\n",
    "\n",
    "Test statistic, $T = \\frac{\\bar{Y_n} - \\mu}{\\hat{\\sigma}/\\sqrt{n}} \\sim t_{n-1}$<br>\n",
    "\n",
    "- Since we do not know what is the true population variance, we use an estimator for $\\sigma$, where the estimator $\\hat{\\sigma}$ converges to $\\sigma$ asymptotically as n goes to infinity\n",
    "- When using a small sample and an estimator for the variance, we resort to the **Student's T distribution** as our test statistic\n",
    "  - Assumes data is Gaussian\n",
    "  - Check by using a qq-plot or Kolmogorov-Smirnov test\n",
    "  - Use a non-parametric test (e.g. [Wilcoxon signed-rank test](https://en.wikipedia.org/wiki/Wilcoxon_signed-rank_test#Test_procedure)) if data is not Gaussian\n",
    "  \n",
    "****\n",
    "\n",
    "**Likelihood Ratio Test**<br>\n",
    "The ratio between the likelihood of observing the data given the parameter under the null hypothesis (*there is no difference*) and the MLE.\n",
    "\n",
    "$L(x) = \\frac{\\max_{\\theta\\in\\Theta_0 p(x;\\theta)}}{\\max_{\\theta\\in\\Theta p(x;\\theta)}}$\n",
    "where $\\Theta = \\Theta_0 \\cup \\Theta_1$<br>\n",
    "\n",
    "$L(x) = \\frac{p(x;\\hat\\theta_{MLE}^{constrained})}{p(x;\\hat\\theta_{MLE}^{\\Theta})}$\n",
    "where $0 <= L(x) <= 1$\n",
    "\n",
    "We reject the null hypothesis when $L(x) << 1$ which suggests that the null hypothesis is not the best estimator available given the data.\n",
    "\n",
    "**Wilks Theorem** states that **when the sample size is large** then the test statistic, $\\Lambda = -2 \\ln(L(x))$, approaches a $\\chi^2$ distribution:\n",
    "\n",
    "$\\Lambda \\overset{n\\to \\infty}{\\longrightarrow} \\chi^2_d$\n",
    "\n",
    "where $d = \\dim(\\Theta) - \\dim(\\Theta_0) > 0$\n",
    "  - Example: if $\\Theta_0$ is a vector with 1 dimension then $\\Theta$ is the union of $\\Theta_0$, $\\Theta_1$ which translates to $\\dim(\\Theta) = 1+1 = 2$\n",
    "  - $\\therefore d = 2 - 1 = 1$\n",
    "\n",
    "**Neyman-Pearson Lemma** states that the likelihood ratio test is the most powerful among all level $\\alpha$ tests. In fact, t-tests are equivalent to the likelihood ratio test.\n",
    "\n",
    "<hr>\n",
    "\n",
    "**Protection against false significance**\n",
    "\n",
    "Suppose an experiment of 1,000 people with 100 variables measured before and after treatment: *weight, blood pressure, etc.*\n",
    "\n",
    "We perform hypothesis testing on each variable with a paired t-test of significance level $\\alpha$ (e.g. 0.05) then on average $100 \\cdot 0.05 = 5$ tests will be falsely significant.\n",
    "\n",
    "Here we can protect against false significance using these two metrics:\n",
    "1. **Family-wise error rate (FWER)**: The probability of making at least one false discovery, i.e. type I error\n",
    "    - $FWER = P(\\text{# false significance tests} \\geq 1) = 1 - P(\\text{# false significance tests} = 0)$\n",
    "    - $P(\\text{test not significant}) = 0.95$\n",
    "    - $FWER = 1 - 0.95^{100} \\approx 0.99$\n",
    "    - \"*If we were to run hypothesis testing for 100 variables at signfiicance level 0.05 then there is a 99% chance that there is at least one experiment that is falsely significant*\"\n",
    "    \n",
    "    \n",
    "2. **False discovery rate (FDR)**: The expected fraction of false significance results among all significance results\n",
    "\n",
    "<hr>\n",
    "\n",
    "**Correction methods for multiple testing**\n",
    "\n",
    "1. **Bonferroni correction** (FWER): Reject $H_0$ when $p \\leq \\frac{\\alpha}{m}$ where $m$ is the total # of hypothesis tests performed\n",
    "\n",
    "    - This implies that $FWER \\leq \\alpha$, the probability of at least one false significance is limited to $\\alpha$\n",
    "    \n",
    "    \n",
    "2. **Holm-Bonferroni correction** (FWER): Sort p-values in increasing order: $p_{(1)} \\leq \\dots \\leq p_{(m)}$ and reject $H_0$ when $(m-i+1) \\cdot p_{(i)} \\leq \\alpha$ (more power than Bonferroni)\n",
    "\n",
    "    - This implies that $FWER \\leq \\alpha$\n",
    "    \n",
    "\n",
    "3. **Benjamini-Hochberg correction** (FDR): Sort p-values in increasing order: $p_{(1)} \\leq \\dots \\leq p_{(m)}$ and reject $H_0$ when $\\frac{m \\cdot p_{i}}{i} \\leq \\alpha$\n",
    "\n",
    "    - This implies that $FDR \\leq \\alpha$\n",
    "\n",
    "\n",
    "**Commonly accepted correction practices**:\n",
    "  - No correction for multiple testing when generating hypothesis, but report number of tests performed\n",
    "  - $FDR \\leq 10\\%$ in exploratory analysis: balances high power and low # of false significance\n",
    "  - $FWER \\leq 5\\%$ in confirmatory analysis\n",
    "\n",
    "<hr>"
   ]
  },
  {
   "cell_type": "markdown",
   "metadata": {},
   "source": [
    "# Basic code\n",
    "A `minimal, reproducible example`"
   ]
  },
  {
   "cell_type": "code",
   "execution_count": 1,
   "metadata": {
    "ExecuteTime": {
     "end_time": "2021-09-04T14:00:06.141926Z",
     "start_time": "2021-09-04T14:00:05.783655Z"
    },
    "code_folding": [
     0,
     12
    ],
    "scrolled": true
   },
   "outputs": [
    {
     "name": "stdout",
     "output_type": "stream",
     "text": [
      "Fisher, p-value: 0.01\n"
     ]
    }
   ],
   "source": [
    "# Suppose 61,000 people were split into two groups randomly/equally, \n",
    "# 39 people died in treatment and a total of 102 people died\n",
    "# Is the treatment better than control?\n",
    "\n",
    "import numpy as np\n",
    "from scipy.stats import fisher_exact\n",
    "\n",
    "# Define parameters\n",
    "N, K, M, t  = 62000, 31000, 102, 39\n",
    "direction   = 'less'\n",
    "\n",
    "# Create contigency matrix\n",
    "table       = np.array(\n",
    "                       [\n",
    "                        [t, M-t],\n",
    "                        [K-t, N-K-(M-t)]\n",
    "                       ]\n",
    "                      )\n",
    "\n",
    "# Run Fisher's Exact test\n",
    "oddsr, p   = fisher_exact(table, alternative = direction)\n",
    "print('Fisher, p-value: {:.2f}'.format(p))"
   ]
  },
  {
   "cell_type": "code",
   "execution_count": 2,
   "metadata": {
    "ExecuteTime": {
     "end_time": "2021-09-04T14:00:06.154855Z",
     "start_time": "2021-09-04T14:00:06.144631Z"
    },
    "code_folding": [
     0
    ]
   },
   "outputs": [
    {
     "name": "stdout",
     "output_type": "stream",
     "text": [
      "T-test p-value, using CDF: 0.01\n",
      "T-test p-value, using ttest_1samp: 0.01\n"
     ]
    }
   ],
   "source": [
    "# Suppose you have a paired test for 10 patients, pre-post medication\n",
    "# X is an array of difference between observed values of post minus pre\n",
    "# alternative hypothesis: difference > 0\n",
    "\n",
    "import numpy as np\n",
    "from scipy.stats import t, ttest_1samp\n",
    "\n",
    "X   = np.array([0.9, -0.9, 4.3, 2.9, 1.2, 3.0, 2.7, 0.6, 3.6, -0.5])\n",
    "\n",
    "# Compute test statistic\n",
    "t_stat = (np.mean(X) - 0) / np.sqrt((sum([(x - np.mean(X))**2 for x in X])/(len(X)-1))) * np.sqrt(len(X))\n",
    "dof    = len(X) - 1\n",
    "\n",
    "# Compute p value\n",
    "p_value = 1 - t.cdf(t_stat, df = dof)\n",
    "print('T-test p-value, using CDF: {:.2f}'.format(np.around(p_value, 5)))\n",
    "\n",
    "# Using ttest_1samp returns two-tailed p-value\n",
    "t_stat, p_value = ttest_1samp(X, popmean = 0)\n",
    "print('T-test p-value, using ttest_1samp: {:.2f}'.format(np.around(p_value/2, 5)))"
   ]
  },
  {
   "cell_type": "code",
   "execution_count": 4,
   "metadata": {
    "ExecuteTime": {
     "end_time": "2021-09-04T14:00:11.185561Z",
     "start_time": "2021-09-04T14:00:11.030391Z"
    },
    "code_folding": [
     0
    ]
   },
   "outputs": [
    {
     "name": "stdout",
     "output_type": "stream",
     "text": [
      "KS, p-value: 0.74\n"
     ]
    },
    {
     "data": {
      "image/png": "[encoded data removed]",
      "text/plain": [
       "<Figure size 432x288 with 1 Axes>"
      ]
     },
     "metadata": {
      "needs_background": "light"
     },
     "output_type": "display_data"
    }
   ],
   "source": [
    "# To check our assumptions that our data is Gaussian before conducting a t-test\n",
    "\n",
    "# Kolmogorov-Smirnov\n",
    "from scipy.stats import kstest\n",
    "stat, p = kstest([(x - np.mean(X)) / np.std(X) for x in X], 'norm')\n",
    "print('KS, p-value: %.2f' % p)\n",
    "\n",
    "# QQ-plot (visualization)\n",
    "import statsmodels.api as sm\n",
    "from matplotlib import pyplot as plt\n",
    "sm.qqplot(X, fit = True, line = '45')\n",
    "plt.show()"
   ]
  },
  {
   "cell_type": "code",
   "execution_count": 5,
   "metadata": {
    "ExecuteTime": {
     "end_time": "2021-09-04T14:00:13.633866Z",
     "start_time": "2021-09-04T14:00:13.628051Z"
    },
    "code_folding": [
     0
    ]
   },
   "outputs": [
    {
     "name": "stdout",
     "output_type": "stream",
     "text": [
      "Wilcoxon, p-value: 0.01\n"
     ]
    }
   ],
   "source": [
    "# If data is not Gaussian, use a non-parametric test (e.g. Wilcoxon signed rank test)\n",
    "from scipy.stats import wilcoxon\n",
    "stat, p = wilcoxon(X, alternative = 'greater')\n",
    "print('Wilcoxon, p-value: {:.2f}'.format(p))"
   ]
  },
  {
   "cell_type": "code",
   "execution_count": 6,
   "metadata": {
    "ExecuteTime": {
     "end_time": "2021-09-04T14:00:13.646678Z",
     "start_time": "2021-09-04T14:00:13.638001Z"
    },
    "code_folding": [
     0
    ]
   },
   "outputs": [
    {
     "name": "stdout",
     "output_type": "stream",
     "text": [
      "Likelihood Ratio Test, p-value: 0.02\n"
     ]
    }
   ],
   "source": [
    "# Likelihood ratio test\n",
    "# Given control and treatment sizes (both 31,000), the corresponding deaths (63, 39) ~ Bin(n, p)\n",
    "n0, n1         = 31000, 31000\n",
    "d0, d1         = 63, 39\n",
    "p0, p1         = d0/n0, d1/n1\n",
    "p_constrained  = (d0+d1)/(n0+n1)\n",
    "dof            = 2-1\n",
    "\n",
    "# Compute test statistic\n",
    "import numpy as np\n",
    "from scipy.stats import binom, chi2\n",
    "\n",
    "num       = binom.pmf(d0, n0, p_constrained) * binom.pmf(d1, n1, p_constrained) # If null is true, then p_constrained should be a good estimator for both groups\n",
    "denom     = binom.pmf(d0, n0, p0) * binom.pmf(d1, n1, p1) # MLE estimator for each group\n",
    "test_stat = -2 * np.log(num/denom)\n",
    "p_value   = chi2.sf(test_stat, df = dof)\n",
    "\n",
    "print('Likelihood Ratio Test, p-value: {:.2f}'.format(p_value))"
   ]
  }
 ],
 "metadata": {
  "kernelspec": {
   "display_name": "Python 3",
   "language": "python",
   "name": "python3"
  },
  "language_info": {
   "codemirror_mode": {
    "name": "ipython",
    "version": 3
   },
   "file_extension": ".py",
   "mimetype": "text/x-python",
   "name": "python",
   "nbconvert_exporter": "python",
   "pygments_lexer": "ipython3",
   "version": "3.7.4"
  },
  "toc": {
   "base_numbering": 1,
   "nav_menu": {},
   "number_sections": true,
   "sideBar": true,
   "skip_h1_title": false,
   "title_cell": "Table of Contents",
   "title_sidebar": "Contents",
   "toc_cell": false,
   "toc_position": {},
   "toc_section_display": true,
   "toc_window_display": false
  }
 },
 "nbformat": 4,
 "nbformat_minor": 2
}
