{
 "cells": [
  {
   "cell_type": "markdown",
   "metadata": {},
   "source": [
    "# Gaussian Processes & Environmental Data\n",
    "\n",
    "<hr>"
   ]
  },
  {
   "cell_type": "markdown",
   "metadata": {},
   "source": [
    "**Why Environmental Data?**<br>\n",
    "\n",
    "By using data such as air/water quality, temperature and other measurements, we can do the following:\n",
    "\n",
    "- Understand underlying processes, changes (e.g. climate change, *'statistics of weather over time'*)\n",
    "- Impacts on environment, health, economics, society\n",
    "- Shape policies\n",
    "- Forecast events, warnings (*e.g. seismic network, storms, ...*)\n",
    "- Resource/energy management, *e.g. water, renewable energies*\n",
    "- Use in planning, routing, backtracking, control\n",
    "\n",
    "The underlying questions and techniques are easily transferrable to other domains. Some of the questions asked are:\n",
    "\n",
    "- Relationships (correlations, association) in temporal, spatial dimensions\n",
    "- trends; forecasting\n",
    "- planning (*e.g. where to place more sensors for better measurements*)\n",
    "- quantifying uncertainty, adaptive sensing\n",
    "\n",
    "For example, in environmental data, we'll be interested in some of these questions:\n",
    "\n",
    "- Predicting animal populations: Usually, animal populations serve as indicator of healthy ecosystems.\n",
    "\n",
    "- Predicting disease: Environmental data can provide contextual information about disease spreading. For example, how temperature changes and rainy seasons impact the spread of malaria in the tropics.\n",
    "\n",
    "- Renewable energy predictions: Clear understanding of wind speeds, water levels in damps, or underground thermal activity provide information for renewable energy decisions.\n",
    "\n",
    "- Predicting extreme events: extreme events like storms and floods are usually modeled and predicted to incorporate action plans.\n",
    "\n",
    "- Policy making: for example pollution concentrations measurements in the air can help the design of guidelines for industry contaminants. \n",
    "\n",
    "Examples of modeling flow data:\n",
    "\n",
    "- Forward prediction: simulate (propogate) distributions, including variation in time\n",
    "- Hindcasting (backtracking): where did this object initially come from?\n",
    "\n",
    "<img alt=\"Flow Example\" src=\"assets/flow_example.png\" width=\"300\">\n",
    "\n",
    "*Example: Malaysian Airlines Flight 370*\n",
    "\n",
    "<img alt=\"MH370\" src=\"assets/MH370.png\" width=\"300\">\n",
    "\n",
    "<hr>\n",
    "\n",
    "**Spatial Correlation**\n",
    "\n",
    "Typically metrics are highly correlated when pair distances are small. For example, temperature patterns between two relatively close locations would be likely similar. \n",
    "\n",
    "$\\therefore$ Intuition: Correlation is a function of distance. How do we then estimate metrics in other locations?\n",
    "\n",
    "Given temperature (*or other measurements*) of a particular location and the covariance matrix between a pair of locations, how do we derive the conditional distribution of the temperature at another location?\n",
    "\n",
    "<img alt=\"Conditional Distribution of a Multivariate Normal\" src=\"assets/conditional_multivariate_normal.jpg\" width=\"300\">\n",
    "\n",
    "Model each location as a Gaussian random variable and formulate a multivariate Gaussian, $X \\sim N(\\mu_k, \\Sigma_k)$\n",
    "\n",
    "The PDF of a multivariate Gaussian RV, $p(x | \\mu, \\Sigma) = \\frac{1}{(2\\pi^{n/2}) \\lvert \\Sigma \\rvert^{1/2}} \\exp (-\\frac{1}{2} (x - \\mu)^T \\Sigma^{-1} (x - \\mu))$\n",
    "\n",
    "where $\\mu = \\mathbb {E}[X]$, $\\lvert \\Sigma \\rvert^{1/2}$ denotes the determinant of the covariance matrix $\\Sigma$\n",
    "\n",
    "Properties of the covariance operator:\n",
    "- $\\textsf{Cov}(X,X) = \\sigma _ X^2$\n",
    "- $\\textsf{Cov}(aX + bY,cW +dV) = ac*\\textsf{Cov}(X,W)+ad*\\textsf{Cov}(X,V)+bc*\\textsf{Cov}(Y,W)+bd*\\textsf{Cov}(Y,V)$\n",
    "\n",
    "A 2-dimensional Multivariate Gaussian PDF as an example:\n",
    "\n",
    "$\n",
    "\\displaystyle  p\\left( \\begin{bmatrix}  {x}_1 \\\\ {x}_2 \\end{bmatrix} \\mid \\begin{bmatrix}  \\mu _1\\\\ \\mu _2 \\end{bmatrix} , \\begin{bmatrix}  {\\sigma }_{11} &  {\\sigma }_{12} \\\\ {\\sigma }_{21} &  {\\sigma }_{22} \\end{bmatrix} \\right) =\\frac{1}{2\\pi ( {\\sigma }_{11}{\\sigma }_{22} -{\\sigma }_{12}{\\sigma }_{21} )^{1/2}} \\exp \\left(-\\frac{1}{2}\\left( \\begin{bmatrix}  {x}_1 \\\\ {x}_2 \\end{bmatrix} - \\begin{bmatrix}  \\mu _1\\\\ \\mu _2 \\end{bmatrix} \\right) ^\\intercal \\begin{bmatrix}  {\\sigma }_{11} &  {\\sigma }_{12} \\\\ {\\sigma }_{21} &  {\\sigma }_{22} \\end{bmatrix} ^{-1}\\left( \\begin{bmatrix}  {x}_1 \\\\ {x}_2 \\end{bmatrix} - \\begin{bmatrix}  \\mu _1\\\\ \\mu _2 \\end{bmatrix} \\right)\\right).\n",
    "$\n",
    "\n",
    "\n",
    "The conditional expectation of $\\mu_{A|B}$ is equal to $\\mu_A + \\frac{\\sigma_{AB}}{\\sigma_B^2} (y_B - \\mu_B)$ and $\\therefore$ the conditional expectation shifts by the correlation between the pair\n",
    "\n",
    "The conditional variance reduces given that we know a related variable which gives us more information about the estimate, $\\sigma_{A|B}^2 = \\sigma_A^2 - \\sigma_{AB} \\sigma_{B}^{-2} \\sigma_{AB}$\n",
    "\n",
    "<hr>"
   ]
  },
  {
   "cell_type": "markdown",
   "metadata": {},
   "source": [
    "# Basic code\n",
    "A `minimal, reproducible example`"
   ]
  },
  {
   "cell_type": "markdown",
   "metadata": {},
   "source": [
    "_Question 1_\n",
    "\n",
    "Assume the temperature in City 1 $X_1$ is a Gaussian random variable with mean $\\mu_1 = 60$ and $\\sigma_1 = 10$, and that the temperature of City 2 is $X_2$ is a Gaussian random variable with mean $\\mu_2 = 90$ and $\\sigma_2 = 20$. Moreover, we know that the covariance between $X_1$ and $X_2$ is 100. Today, we have observed that the temperature in City 2 is 75. What is the probability that the new temperature in the City 1 is bigger than 56.25?"
   ]
  },
  {
   "cell_type": "code",
   "execution_count": 7,
   "metadata": {},
   "outputs": [
    {
     "name": "stdout",
     "output_type": "stream",
     "text": [
      "56.25\n"
     ]
    }
   ],
   "source": [
    "# Compute conditional expectation\n",
    "mu_1, sigma_1 = 60, 10\n",
    "mu_2, sigma_2 = 90, 20\n",
    "cov = 100\n",
    "observed_2 = 75\n",
    "\n",
    "conditional_mu = mu_1 + cov/(sigma_2**2) * (observed_2 - mu_2)\n",
    "print(conditional_mu)"
   ]
  }
 ],
 "metadata": {
  "kernelspec": {
   "display_name": "Python 3",
   "language": "python",
   "name": "python3"
  },
  "language_info": {
   "codemirror_mode": {
    "name": "ipython",
    "version": 3
   },
   "file_extension": ".py",
   "mimetype": "text/x-python",
   "name": "python",
   "nbconvert_exporter": "python",
   "pygments_lexer": "ipython3",
   "version": "3.8.11"
  },
  "toc": {
   "base_numbering": 1,
   "nav_menu": {},
   "number_sections": true,
   "sideBar": true,
   "skip_h1_title": false,
   "title_cell": "Table of Contents",
   "title_sidebar": "Contents",
   "toc_cell": false,
   "toc_position": {},
   "toc_section_display": true,
   "toc_window_display": false
  }
 },
 "nbformat": 4,
 "nbformat_minor": 2
}
