{
 "cells": [
  {
   "cell_type": "markdown",
   "metadata": {},
   "source": [
    "# Gaussian Processes & Environmental Data\n",
    "\n",
    "<hr>"
   ]
  },
  {
   "cell_type": "markdown",
   "metadata": {},
   "source": [
    "**Why Environmental Data?**<br>\n",
    "\n",
    "By using data such as air/water quality, temperature and other measurements, we can do the following:\n",
    "\n",
    "- Understand underlying processes, changes (e.g. climate change, *'statistics of weather over time'*)\n",
    "- Impacts on environment, health, economics, society\n",
    "- Shape policies\n",
    "- Forecast events, warnings (*e.g. seismic network, storms, ...*)\n",
    "- Resource/energy management, *e.g. water, renewable energies*\n",
    "- Use in planning, routing, backtracking, control\n",
    "\n",
    "The underlying questions and techniques are easily transferrable to other domains. Some of the questions asked are:\n",
    "\n",
    "- Relationships (correlations, association) in temporal, spatial dimensions\n",
    "- trends; forecasting\n",
    "- planning (*e.g. where to place more sensors for better measurements*)\n",
    "- quantifying uncertainty, adaptive sensing\n",
    "\n",
    "For example, in environmental data, we'll be interested in some of these questions:\n",
    "\n",
    "- Predicting animal populations: Usually, animal populations serve as indicator of healthy ecosystems.\n",
    "\n",
    "- Predicting disease: Environmental data can provide contextual information about disease spreading. For example, how temperature changes and rainy seasons impact the spread of malaria in the tropics.\n",
    "\n",
    "- Renewable energy predictions: Clear understanding of wind speeds, water levels in damps, or underground thermal activity provide information for renewable energy decisions.\n",
    "\n",
    "- Predicting extreme events: extreme events like storms and floods are usually modeled and predicted to incorporate action plans.\n",
    "\n",
    "- Policy making: for example pollution concentrations measurements in the air can help the design of guidelines for industry contaminants. \n",
    "\n",
    "Examples of modeling flow data:\n",
    "\n",
    "- Forward prediction: simulate (propogate) distributions, including variation in time\n",
    "- Hindcasting (backtracking): where did this object initially come from?\n",
    "\n",
    "<img alt=\"Flow Example\" src=\"assets/flow_example.png\" width=\"300\">\n",
    "\n",
    "*Example: Malaysian Airlines Flight 370*\n",
    "\n",
    "<img alt=\"MH370\" src=\"assets/MH370.png\" width=\"300\">\n",
    "\n",
    "<hr>\n",
    "\n",
    "**Spatial Correlation**\n",
    "\n",
    "<hr>"
   ]
  },
  {
   "cell_type": "markdown",
   "metadata": {},
   "source": [
    "# Basic code\n",
    "A `minimal, reproducible example`"
   ]
  },
  {
   "cell_type": "code",
   "execution_count": null,
   "metadata": {},
   "outputs": [],
   "source": []
  }
 ],
 "metadata": {
  "kernelspec": {
   "display_name": "Python 3",
   "language": "python",
   "name": "python3"
  },
  "language_info": {
   "codemirror_mode": {
    "name": "ipython",
    "version": 3
   },
   "file_extension": ".py",
   "mimetype": "text/x-python",
   "name": "python",
   "nbconvert_exporter": "python",
   "pygments_lexer": "ipython3",
   "version": "3.7.4"
  },
  "toc": {
   "base_numbering": 1,
   "nav_menu": {},
   "number_sections": true,
   "sideBar": true,
   "skip_h1_title": false,
   "title_cell": "Table of Contents",
   "title_sidebar": "Contents",
   "toc_cell": false,
   "toc_position": {},
   "toc_section_display": true,
   "toc_window_display": false
  }
 },
 "nbformat": 4,
 "nbformat_minor": 2
}
