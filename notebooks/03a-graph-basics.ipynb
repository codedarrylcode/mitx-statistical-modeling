{
 "cells": [
  {
   "cell_type": "markdown",
   "metadata": {},
   "source": [
    "# Graph Basics\n",
    "A graph (or network) is a collection of nodes (or vertices) and edges (or links).\n",
    "\n",
    "In the real world, _how do you suggest new friends in a social network?_\n",
    "<hr>"
   ]
  },
  {
   "cell_type": "markdown",
   "metadata": {},
   "source": [
    "**Representation of a network**<br>\n",
    "Two common representations of a network $G = (V,E)$\n",
    "\n",
    "1. Adjacency list\n",
    "    - undirected graph $1 - 2 - 3: E = [[1,2], [2,3]]$\n",
    "    - directed graph $1 \\rightarrow 2 \\leftarrow 3: E = [(1,2), (3,2)]$\n",
    "    \n",
    "    \n",
    "2. Adjacency matrix of size $n x n$ (where $n = \\lvert V \\rvert$) with:\n",
    "\n",
    "    $\n",
    "     A_{ij} = \\left\\{\n",
    "                \\begin{array}{rcl}\n",
    "                1 & \\mbox{if (i, j)} \\in E \\\\\n",
    "                0 & \\mbox{otherwise}\n",
    "                \\end{array}\n",
    "               \\right.\n",
    "    $\n",
    "    \n",
    "    - For weighted graph, $A_{ij}$ can be non-binary\n",
    "               \n",
    "Given binary vectors, $i_1$, $i_2$, where each position, $n$ is a binary representation if person is friends with person $n$. To find / recommend common friends, compute an inner product of $i_1$, $i_2$\n",
    "\n",
    "<hr>\n",
    "\n",
    "**Graph Model**<br>\n",
    "A graph $G = (V, E)$ is a tuple of two sets $V$ and $E$ where:\n",
    "\n",
    "- $V$ is a set of nodes or vertices\n",
    "- $E$ is a set of edges or links representing relationships between nodes in $V$\n",
    "    - Each element of this set is either a set $[i, j]$, if the edge is undirected\n",
    "    - or a tuple $(i, j)$ indicating direction from $i$ to $j$\n",
    "\n",
    "<hr>\n",
    "\n",
    "**Summary Statistics of a Graph**<br>\n",
    "Generally long-tailed distributions and therefore application of the Power law (log-log relationships) degree distribution clarifies the relationships between connected components.\n",
    "\n",
    "Common descriptive statistics of a Graph:\n",
    "- Number of connected components - set of nodes that are reachable from one another (most networks consist of one large component and many small ones)\n",
    "- Number of edges (edge density or connectence)\n",
    "    - $\\rho = \\frac{m}{\\binom{N}{2}} = \\frac{\\sum_{i,j}A_{ij}}{n(n-1)}$ \n",
    "    \n",
    "    where $\\lvert V \\rvert = n$ (number of nodes), $\\lvert E \\rvert = m$ (number of edges)\n",
    "    \n",
    "    - Most networks are sparse, i.e. $p \\xrightarrow{n \\rightarrow \\infty} 0$, for e.g. friendship networks, where each person's number of friends does not grow proportionally with the size of the network\n",
    "    \n",
    "    \n",
    "- Degree distribution\n",
    "    - The degree of a node is the number of edges connected to it\n",
    "    - Average degree: $\\frac{1}{n} \\sum_{i} k_i = \\frac{\\sum_{i, j} A_{ij}}{n} = \\frac{2m}{n}$, where $k_i$ is the degree of each node\n",
    "    - Most information captured by degree distribution\n",
    "    - Histogram of fraction of nodes with degree $k$, often heavy-tailed, $log(p_k) = -\\alpha log k + c$\n",
    "    \n",
    "    \n",
    "- Diameter and average path length\n",
    "    - Diameter is the largest distance between any two nodes\n",
    "    - Let $d_{ij}$ denote the shortest path between two nodes\n",
    "    - $diameter = \\max d_{ij}$ for $i, j \\in V$\n",
    "    \n",
    "    - Average path length is the average distance between any two nodes\n",
    "    - $average = \\frac{1}{\\binom{n}{2}} \\sum_{i \\leq j} d_{ij}$\n",
    "    - If network is not connected, compute the diameter and average path length in the largest component\n",
    "    \n",
    "\n",
    "- Clustering\n",
    "    - In social networks, it is often the case that two nodes who share a common friend are also friends\n",
    "    - Triangle density: $\\frac{number of friends}{\\binom{n}{3}}$\n",
    "    - But triangles don't necessarily characterize clustering\n",
    "    - Remedy: clustering coefficient (or network transitivity)\n",
    "    - $C = \\frac{3 \\cdot number of closed triangles}{number of connected triangles}$, where closed triangles are connected by three edges and connected triangles can be connected by two edges\n",
    "    - Written in terms of the adjacency matrix, $C = \\frac{\\sum_{i,j,k} A_{ij} A_{jk} A_{ki}}{\\sum_{i} k_i \\cdot (k_i -1)}$, where $k_i = \\sum_{j} A_{ij}$ is the degree of node $i$\n",
    "    - $\\sum_{i,j,k} A_{ij} A_{jk} A_{ki} = \\sum_{i} [A^3]_{ii} = tr A^3$, where $\\sum_{i} [A^3]_{ii} = 2$ if it is a closed triangle (there are two paths from node to itself) and zero otherwise\n",
    "\n",
    "\n",
    "- Homophily or assortative mixing (Are there more edges between similar nodes?)\n",
    "    - Conditional histogram of degrees\n",
    "        - People who are of a certain age befriends people who are of the same age\n",
    "        - People who have the same number of friends have the same number of friends\n",
    "    \n",
    "    - Modularity of an undirected graph: $\\frac{1}{2m} \\sum_{i,j} (A_{ij} - \\frac{k_i k_j}{2m}) \\cdot \\delta(t_i, t_j)$ where $\\delta(t_i, t_j) = 1$ if $t_i = t_j$ else $0$ and $\\frac{k_i k_j}{2m}$ is the expected number of edges between a node i and node j with degrees $k_i$ and $k_j$ respectively\n",
    "        - For a given pair of nodes, $i$, $j$, a positive value indicates an affinity that is more than the expected affinity that they would otherwise have in a truly random graph with given node types and $m$ edges"
   ]
  },
  {
   "cell_type": "markdown",
   "metadata": {},
   "source": [
    "# Basic code\n",
    "A `minimal, reproducible example`"
   ]
  },
  {
   "cell_type": "markdown",
   "metadata": {},
   "source": [
    "## Graphs in Adjacency Matrix"
   ]
  },
  {
   "cell_type": "code",
   "execution_count": 2,
   "metadata": {
    "ExecuteTime": {
     "end_time": "2021-10-01T10:28:58.332002Z",
     "start_time": "2021-10-01T10:28:57.733244Z"
    }
   },
   "outputs": [],
   "source": [
    "# Adjacency matrix\n",
    "import numpy as np\n",
    "from scipy.linalg import fractional_matrix_power\n",
    "\n",
    "A = np.array([\n",
    "    [0, 1, 0, 1, 0, 1, 0, 0, 0, 0],\n",
    "    [1, 0, 1, 1, 1, 0, 0, 0, 0, 0],\n",
    "    [0, 1, 0, 0, 0, 0, 0, 0, 0, 0],\n",
    "    [1, 1, 0, 0, 0, 1, 0, 1, 1, 0],\n",
    "    [0, 1, 0, 0, 0, 0, 0, 0, 1, 1],\n",
    "    [1, 0, 0, 1, 0, 0, 0, 0, 0, 0],\n",
    "    [0, 0, 0, 0, 0, 0, 0, 0, 0, 1],\n",
    "    [0, 0, 0, 1, 0, 0, 0, 0, 0, 0],\n",
    "    [0, 0, 0, 1, 1, 0, 0, 0, 0, 1],\n",
    "    [0, 0, 0, 0, 1, 0, 1, 0, 1, 0]\n",
    "])"
   ]
  },
  {
   "cell_type": "code",
   "execution_count": 3,
   "metadata": {
    "ExecuteTime": {
     "end_time": "2021-10-01T10:28:58.394851Z",
     "start_time": "2021-10-01T10:28:58.334242Z"
    },
    "code_folding": [
     1
    ]
   },
   "outputs": [
    {
     "data": {
      "text/plain": [
       "array([[1, 1, 1],\n",
       "       [1, 0, 0],\n",
       "       [1, 1, 0]])"
      ]
     },
     "execution_count": 3,
     "metadata": {},
     "output_type": "execute_result"
    }
   ],
   "source": [
    "# How many walks of length 2 are there from node 1 to 2?\n",
    "A_toy = [\n",
    "    [1, 1, 0], \n",
    "    [0, 0, 1], \n",
    "    [1, 0, 0]\n",
    "]\n",
    "walk_length = 2\n",
    "\n",
    "## A(12) equals to 1, therefore there is exactly 1 walk of length 2 from node 1 to 2\n",
    "fractional_matrix_power(A_toy, walk_length)"
   ]
  },
  {
   "cell_type": "code",
   "execution_count": 4,
   "metadata": {
    "ExecuteTime": {
     "end_time": "2021-10-01T10:28:58.402856Z",
     "start_time": "2021-10-01T10:28:58.398649Z"
    }
   },
   "outputs": [
    {
     "name": "stdout",
     "output_type": "stream",
     "text": [
      "4\n"
     ]
    }
   ],
   "source": [
    "# Find the minimum l such that A^l contains no entry equal to 0\n",
    "\n",
    "for i in range(100):\n",
    "    if np.min(fractional_matrix_power(A, i)) > 0:\n",
    "        break\n",
    "        \n",
    "print(i)"
   ]
  },
  {
   "cell_type": "code",
   "execution_count": 5,
   "metadata": {
    "ExecuteTime": {
     "end_time": "2021-10-01T10:28:58.411158Z",
     "start_time": "2021-10-01T10:28:58.405873Z"
    }
   },
   "outputs": [
    {
     "data": {
      "text/plain": [
       "5"
      ]
     },
     "execution_count": 5,
     "metadata": {},
     "output_type": "execute_result"
    }
   ],
   "source": [
    "# Find the maximum degree of a node in the graph\n",
    "degrees = A.sum(axis = 0) # Number of edges to each node\n",
    "np.max(degrees)"
   ]
  },
  {
   "cell_type": "code",
   "execution_count": 6,
   "metadata": {
    "ExecuteTime": {
     "end_time": "2021-10-01T10:28:58.418584Z",
     "start_time": "2021-10-01T10:28:58.413939Z"
    }
   },
   "outputs": [
    {
     "data": {
      "text/plain": [
       "46"
      ]
     },
     "execution_count": 6,
     "metadata": {},
     "output_type": "execute_result"
    }
   ],
   "source": [
    "# How many walks of length 5 are there from node 0 to itself?\n",
    "walk_length = 5\n",
    "fractional_matrix_power(A,walk_length)[0,0]"
   ]
  },
  {
   "cell_type": "markdown",
   "metadata": {
    "heading_collapsed": true
   },
   "source": [
    "## Graphs in Edge List"
   ]
  },
  {
   "cell_type": "code",
   "execution_count": 2,
   "metadata": {
    "ExecuteTime": {
     "end_time": "2021-10-05T08:59:59.171013Z",
     "start_time": "2021-10-05T08:59:58.383290Z"
    },
    "hidden": true
   },
   "outputs": [
    {
     "name": "stdout",
     "output_type": "stream",
     "text": [
      "[[ 0.  3.]\n",
      " [ 0. 10.]]\n"
     ]
    }
   ],
   "source": [
    "# Load directed edge list from sub-directory\n",
    "import os\n",
    "import numpy as np\n",
    "cwd      = os.getcwd() # Current working directory\n",
    "folder   = 'data'\n",
    "file     = 'release_directed_graph.txt'\n",
    "filepath = cwd + f'/{folder}/{file}'\n",
    "A        = np.loadtxt(filepath)\n",
    "print(A[:2,:])"
   ]
  },
  {
   "cell_type": "code",
   "execution_count": 3,
   "metadata": {
    "ExecuteTime": {
     "end_time": "2021-10-05T09:00:03.227359Z",
     "start_time": "2021-10-05T09:00:03.213840Z"
    },
    "hidden": true
   },
   "outputs": [
    {
     "data": {
      "text/plain": [
       "100.0"
      ]
     },
     "execution_count": 3,
     "metadata": {},
     "output_type": "execute_result"
    }
   ],
   "source": [
    "# How many nodes does the graph have?\n",
    "np.max(A)+1"
   ]
  },
  {
   "cell_type": "code",
   "execution_count": 4,
   "metadata": {
    "ExecuteTime": {
     "end_time": "2021-10-05T09:00:03.237988Z",
     "start_time": "2021-10-05T09:00:03.230887Z"
    },
    "hidden": true
   },
   "outputs": [
    {
     "data": {
      "text/plain": [
       "1030"
      ]
     },
     "execution_count": 4,
     "metadata": {},
     "output_type": "execute_result"
    }
   ],
   "source": [
    "# How many edges does the graph possess?\n",
    "A.shape[0]"
   ]
  },
  {
   "cell_type": "code",
   "execution_count": 5,
   "metadata": {
    "ExecuteTime": {
     "end_time": "2021-10-05T09:00:03.255782Z",
     "start_time": "2021-10-05T09:00:03.242075Z"
    },
    "hidden": true
   },
   "outputs": [
    {
     "data": {
      "text/plain": [
       "True"
      ]
     },
     "execution_count": 5,
     "metadata": {},
     "output_type": "execute_result"
    }
   ],
   "source": [
    "# Does the graph contain self-loops?\n",
    "def check_self_loop(row):\n",
    "    return len(set(row)) == 1\n",
    "\n",
    "np.count_nonzero(np.apply_along_axis(check_self_loop, axis = 1, arr = A)) >= 1"
   ]
  },
  {
   "cell_type": "code",
   "execution_count": 6,
   "metadata": {
    "ExecuteTime": {
     "end_time": "2021-10-05T09:00:03.276518Z",
     "start_time": "2021-10-05T09:00:03.260043Z"
    },
    "hidden": true
   },
   "outputs": [
    {
     "data": {
      "text/plain": [
       "True"
      ]
     },
     "execution_count": 6,
     "metadata": {},
     "output_type": "execute_result"
    }
   ],
   "source": [
    "# Does the graph contain directed cycles without self-loops?\n",
    "# Disregard self-loops and check if every node has an incoming edge\n",
    "\n",
    "idx = np.where(np.apply_along_axis(check_self_loop, axis = 1, arr = A))[0]\n",
    "len(set(np.delete(A, idx, axis = 0)[:, 0])) == np.max(A)+1"
   ]
  },
  {
   "cell_type": "code",
   "execution_count": 7,
   "metadata": {
    "ExecuteTime": {
     "end_time": "2021-10-05T09:00:03.538651Z",
     "start_time": "2021-10-05T09:00:03.280215Z"
    },
    "hidden": true
   },
   "outputs": [
    {
     "name": "stdout",
     "output_type": "stream",
     "text": [
      "0.103\n"
     ]
    }
   ],
   "source": [
    "# If data was generated with every possible edge of p probability\n",
    "# Find MLE of p = no. of edges observed / total no. of possible edges\n",
    "from scipy.special import binom\n",
    "\n",
    "p_mle = A.shape[0] / (np.max(A)+1)**2\n",
    "print(p_mle)"
   ]
  },
  {
   "cell_type": "code",
   "execution_count": 8,
   "metadata": {
    "ExecuteTime": {
     "end_time": "2021-10-05T09:00:03.920493Z",
     "start_time": "2021-10-05T09:00:03.540928Z"
    },
    "hidden": true
   },
   "outputs": [
    {
     "name": "stdout",
     "output_type": "stream",
     "text": [
      "0.3236545952123604\n"
     ]
    }
   ],
   "source": [
    "# Hypothesis testing\n",
    "from scipy.stats import norm\n",
    "\n",
    "p_null = 0.10\n",
    "stat   = (p_mle - p_null) / np.sqrt(p_mle*(1-p_mle)) * (np.max(A)+1)\n",
    "p_val  = (1 - norm.cdf(stat))*2\n",
    "print(p_val)"
   ]
  },
  {
   "cell_type": "markdown",
   "metadata": {
    "heading_collapsed": true
   },
   "source": [
    "## Modularity of a Small Graph"
   ]
  },
  {
   "cell_type": "code",
   "execution_count": 11,
   "metadata": {
    "ExecuteTime": {
     "end_time": "2021-10-05T09:04:11.818896Z",
     "start_time": "2021-10-05T09:04:11.811593Z"
    },
    "code_folding": [
     1
    ],
    "hidden": true
   },
   "outputs": [],
   "source": [
    "import numpy as np\n",
    "A = np.array([\n",
    "    [0, 1, 0, 1, 0, 1, 0, 0, 0, 0],\n",
    "    [1, 0, 1, 1, 1, 0, 0, 0, 0, 0],\n",
    "    [0, 1, 0, 0, 0, 0, 0, 0, 0, 0],\n",
    "    [1, 1, 0, 0, 0, 1, 0, 1, 1, 0],\n",
    "    [0, 1, 0, 0, 0, 0, 0, 0, 1, 1],\n",
    "    [1, 0, 0, 1, 0, 0, 0, 0, 0, 0],\n",
    "    [0, 0, 0, 0, 0, 0, 0, 0, 0, 1],\n",
    "    [0, 0, 0, 1, 0, 0, 0, 0, 0, 0],\n",
    "    [0, 0, 0, 1, 1, 0, 0, 0, 0, 1],\n",
    "    [0, 0, 0, 0, 1, 0, 1, 0, 1, 0]\n",
    "])"
   ]
  },
  {
   "cell_type": "code",
   "execution_count": 57,
   "metadata": {
    "ExecuteTime": {
     "end_time": "2021-10-05T09:30:23.913337Z",
     "start_time": "2021-10-05T09:30:23.907041Z"
    },
    "hidden": true
   },
   "outputs": [
    {
     "name": "stdout",
     "output_type": "stream",
     "text": [
      "-0.03994082840236687\n"
     ]
    }
   ],
   "source": [
    "# Attempt\n",
    "degrees = A.sum(axis = 0)\n",
    "n_edges = A.sum()\n",
    "n       = A.shape[0]\n",
    "agg     = 0\n",
    "\n",
    "for i in range(n):\n",
    "    for j in range(i+1, n):\n",
    "        a = A[i][j]\n",
    "        k_i, k_j = degrees[i], degrees[j]\n",
    "        delta = 1 if i % 2 == j % 2 else 0\n",
    "        agg += (a - (k_i*k_j/n_edges))*delta/(n_edges)\n",
    "        \n",
    "print(agg)"
   ]
  },
  {
   "cell_type": "code",
   "execution_count": 38,
   "metadata": {
    "ExecuteTime": {
     "end_time": "2021-10-05T09:24:13.301034Z",
     "start_time": "2021-10-05T09:24:13.289436Z"
    },
    "hidden": true
   },
   "outputs": [
    {
     "data": {
      "text/plain": [
       "-0.20414201183431957"
      ]
     },
     "execution_count": 38,
     "metadata": {},
     "output_type": "execute_result"
    }
   ],
   "source": [
    "# Given answer\n",
    "def modularity_partition(A, part):\n",
    "    m = A.sum()/2\n",
    "    ks = A.sum(axis=0)\n",
    "    return ( A[part].T[part].T - ks[part][:,None]*ks[part][None,:]/(2*m) ).sum()/(2*m)\n",
    "\n",
    "def modularity(A, parts):\n",
    "    return sum([ modularity_partition(A, p) for p in parts ])\n",
    "\n",
    "modularity(A, [[0,2,4,6,8], [1,3,5,7,9]])"
   ]
  }
 ],
 "metadata": {
  "kernelspec": {
   "display_name": "Python 3",
   "language": "python",
   "name": "python3"
  },
  "language_info": {
   "codemirror_mode": {
    "name": "ipython",
    "version": 3
   },
   "file_extension": ".py",
   "mimetype": "text/x-python",
   "name": "python",
   "nbconvert_exporter": "python",
   "pygments_lexer": "ipython3",
   "version": "3.7.4"
  },
  "toc": {
   "base_numbering": 1,
   "nav_menu": {},
   "number_sections": true,
   "sideBar": true,
   "skip_h1_title": false,
   "title_cell": "Table of Contents",
   "title_sidebar": "Contents",
   "toc_cell": false,
   "toc_position": {},
   "toc_section_display": true,
   "toc_window_display": false
  }
 },
 "nbformat": 4,
 "nbformat_minor": 2
}
