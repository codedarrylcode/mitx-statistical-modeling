{
 "cells": [
  {
   "cell_type": "markdown",
   "metadata": {},
   "source": [
    "# Graph Centrality Measures\n",
    "Finding important nodes in a network\n",
    "<hr>"
   ]
  },
  {
   "cell_type": "markdown",
   "metadata": {},
   "source": [
    "**Centrality Measures**<br>\n",
    "Captures the importance of a node in a network. For example, degrees (in/out degree), propagated degree (e.g. if friends of my friends are also important, i.e. a node has a large centrality has neighbours that have large centrality), closeness, betweenness (where removal may break the network) of networks.\n",
    "\n",
    "1. **Degree centrality**\n",
    "\n",
    "    For undirected graphs, the degree $k_i$ of node $i$ is the number of edges\n",
    "    \n",
    "    - Undirected graphs: $k_i = \\sum_{j} A_{ij}$\n",
    "    - Directed graphs: in-degree ($k_{i}^{in} = \\sum_{j} A_{ji}$) and out-degree ($k_{i}^{out} = \\sum_{j} A_{ij}$)\n",
    "    \n",
    "    Simple and intuitive: Individuals with more connections have more *influence* and access to information. But does not capture the importance of their connections.\n",
    "    \n",
    "    \n",
    "2. **Closeness centrality**\n",
    "    \n",
    "    Tracks how close a node is to any other node, by computing the inverse of the average distance to all nodes, i.e small average distance is equivalent to high closeness\n",
    "    \n",
    "    $C_i = (\\frac{1}{n-1} \\sum_{j \\neq i} d_{ij})^{-1}$\n",
    "    \n",
    "    where $d_{ij}$ is the distance between nodes $i$ and $j$ and is calculated by computing the number of walks required to go from node $i$ to $j$ in its shortest path\n",
    "    \n",
    "    Harmonic centrality helps with disconnected networks where $d_{ij}$ is infinity for disconnected nodes.\n",
    "    \n",
    "    $H_i = \\frac{1}{n-1} \\sum_{j \\neq i} \\frac{1}{d_{ij}}$, which translates to zero for disconnected nodes but gives more weight to small distances\n",
    "    \n",
    "    \n",
    "\n",
    "3. **Betweeness centrality**\n",
    "    \n",
    "    Measures the extent to which a node lies on paths between other nodes:\n",
    "    \n",
    "    $B_i = \\frac{1}{n-2} \\sum_{s, t} \\frac{n_{st}^i}{g_{st}}$\n",
    "    \n",
    "    where $n_{st}^i$ is the number of shortest paths between $s$ and $t$ that passes through $i$, and $g_{st}$ is the total number of shortest paths between $s$ and $t$\n",
    "    \n",
    "\n",
    "4. **Eigenvector centrality**\n",
    "\n",
    "    *If the connected nodes of the node $i$ are important...*\n",
    "    \n",
    "    The eigenvector centrality of a node is the weighted importance of the nodes pointing to it (left eigenvector, $x^T A$) or the nodes that it points to (right eigenvector, $Ax$). The eigenvector centrality of a directed graph is the eigenvector, $v$, with the largest eigenvalue. \n",
    "    \n",
    "    Then, the eigenvector centrality of node $i$ is the value at $i^{th}$ index of $v$ and is denoted $v_i$\n",
    "        \n",
    "    Recap: For a matrix of size $n$ x $n$, a value $\\lambda$ is an eigenvalue that corresponds to an eigenvector $x$, if and only if, $Ax = \\lambda x$.\n",
    "    \n",
    "    The interpretation of eigenvector centrality is that the ranking of a particular node $i$ satisfies:\n",
    "    \n",
    "    $\\sum_{j} v_j A_{ji} = \\lambda_{max} v_i$\n",
    "    \n",
    "    and this implies\n",
    "    \n",
    "    $v_i = \\frac{1}{\\lambda_{max}} \\sum_{j} v_j A_{ij}$\n",
    "    \n",
    "<hr>\n",
    "\n",
    "**Katz Centrality**\n",
    "\n",
    "The eigenvector centrality cannot be properly measured when there are *source (no nodes pointing to it) / sink (not pointing to any node)* nodes in directed graphs as it gives zero eigenvector centrality.\n",
    "\n",
    "**Solution**: Give every node some fixed (but small) centrality\n",
    "\n",
    "$x_{i}^{k+1} = \\alpha \\sum_{j = 1}^{n} A_{ij} x_{j}^{(k)} + \\beta_i$\n",
    "\n",
    "or equivalently,\n",
    "\n",
    "$x^{k+1} = \\alpha \\cdot Ax^{(k)} + \\beta$\n",
    "\n",
    "Drawback of Katz centrality: A node of high centrality pointing to many nodes gives them all high centrality.\n",
    "\n",
    "**Solution**: Page rank remedy. Scale by the degree of a node, for e.g. if an important (high centrality) website points to your website but also 999 other websites at the same time then it has degree 1000 with some centrality measure.\n",
    "\n",
    "$x_{j}^{k+1} = \\alpha \\sum_{i = 1}^{n} A_{ij} \\frac{x_{i}^{(k)}}{k_i^{out}} + \\beta_i$ where $k_i^{out}$ is the out-degree of node $i$\n",
    "\n",
    "or equivalently,\n",
    "\n",
    "$x^{(k+1)} = \\alpha \\cdot Ax^{(k)} + \\beta$ where $D = diag(k_1^{out}, \\dots, k_n^{out})$\n",
    "\n",
    "<hr>\n",
    "\n",
    "**Hubs and Authorities**\n",
    "\n",
    "An important **hub** is a node that points to many important **authorities**. An important authority is one that has many hubs pointing to it.\n",
    "\n",
    "We begin with an initial assignment of hub and authority scores for every node $x^0$ and $(y^0)^T$ respectively.\n",
    "\n",
    "$x^{k+1} = \\alpha \\cdot A y^k$ and $(y^{k+1})^T = \\beta \\cdot (x^{k+1})^T A$"
   ]
  },
  {
   "cell_type": "markdown",
   "metadata": {},
   "source": [
    "# Basic code\n",
    "A `minimal, reproducible example`"
   ]
  },
  {
   "cell_type": "markdown",
   "metadata": {},
   "source": [
    "## Eigenvector centrality"
   ]
  },
  {
   "cell_type": "code",
   "execution_count": 42,
   "metadata": {},
   "outputs": [],
   "source": [
    "# Adjacency matrix\n",
    "import numpy as np\n",
    "np.set_printoptions(precision = 4, suppress = True)\n",
    "A = np.array(\n",
    "    [\n",
    "        [1,0,0,0], \n",
    "        [1,0,0,0], \n",
    "        [1,0,0,0], \n",
    "        [1,0,0,0]\n",
    "    ]\n",
    ")"
   ]
  },
  {
   "cell_type": "code",
   "execution_count": 43,
   "metadata": {},
   "outputs": [
    {
     "data": {
      "text/plain": [
       "[(0, '1.00000'), (1, '0.00000'), (2, '0.00000'), (3, '0.00000')]"
      ]
     },
     "execution_count": 43,
     "metadata": {},
     "output_type": "execute_result"
    }
   ],
   "source": [
    "# Find the left eigenvector centrality of all nodes\n",
    "import networkx as nx\n",
    "G = nx.from_numpy_matrix(A, create_using = nx.DiGraph)\n",
    "left_eigenvector = nx.eigenvector_centrality(G)\n",
    "\n",
    "sorted((v, f\"{c:0.5f}\") for v, c in left_eigenvector.items())"
   ]
  },
  {
   "cell_type": "code",
   "execution_count": 44,
   "metadata": {},
   "outputs": [
    {
     "data": {
      "text/plain": [
       "[(0, '0.50000'), (1, '0.50000'), (2, '0.50000'), (3, '0.50000')]"
      ]
     },
     "execution_count": 44,
     "metadata": {},
     "output_type": "execute_result"
    }
   ],
   "source": [
    "# Which node is the most important, if A^T?\n",
    "G = nx.from_numpy_matrix(A.T, create_using = nx.DiGraph)\n",
    "left_eigenvector = nx.eigenvector_centrality(G)\n",
    "\n",
    "sorted((v, f\"{c:0.5f}\") for v, c in left_eigenvector.items())"
   ]
  },
  {
   "cell_type": "code",
   "execution_count": 45,
   "metadata": {},
   "outputs": [
    {
     "data": {
      "text/plain": [
       "[(0, '0.79917'), (1, '0.34705'), (2, '0.34705'), (3, '0.34705')]"
      ]
     },
     "execution_count": 45,
     "metadata": {},
     "output_type": "execute_result"
    }
   ],
   "source": [
    "# Find eigenvector centrality\n",
    "A = np.array(\n",
    "    [\n",
    "        [1,1,1,1], \n",
    "        [1,0,0,0], \n",
    "        [1,0,0,0], \n",
    "        [1,0,0,0]\n",
    "    ]\n",
    ")\n",
    "\n",
    "G = nx.from_numpy_matrix(A, create_using = nx.DiGraph)\n",
    "left_eigenvector = nx.eigenvector_centrality(G)\n",
    "\n",
    "sorted((v, f\"{c:0.5f}\") for v, c in left_eigenvector.items())"
   ]
  },
  {
   "cell_type": "markdown",
   "metadata": {},
   "source": [
    "## Katz centrality"
   ]
  },
  {
   "cell_type": "code",
   "execution_count": 78,
   "metadata": {},
   "outputs": [
    {
     "data": {
      "text/plain": [
       "array([0.4647, 0.5112, 0.5112, 0.5112])"
      ]
     },
     "execution_count": 78,
     "metadata": {},
     "output_type": "execute_result"
    }
   ],
   "source": [
    "# Compute the Katz centrality of a directed, acyclic graph (DAG)\n",
    "A = np.array(\n",
    "    [\n",
    "        [0, 1, 1, 1], \n",
    "        [0, 0, 0, 0], \n",
    "        [0, 0, 0, 0], \n",
    "        [0, 0, 0, 0]\n",
    "    ]\n",
    ")\n",
    "\n",
    "alpha = 0.1\n",
    "beta  = 1\n",
    "\n",
    "G = nx.from_numpy_matrix(A, create_using = nx.DiGraph)\n",
    "left_eigenvector = nx.katz_centrality(G)\n",
    "vals = np.array(list(left_eigenvector.values()))\n",
    "vals"
   ]
  },
  {
   "cell_type": "markdown",
   "metadata": {},
   "source": [
    "## Page-rank centrality"
   ]
  },
  {
   "cell_type": "code",
   "execution_count": 25,
   "metadata": {},
   "outputs": [
    {
     "data": {
      "text/plain": [
       "{0: 0.4902924835393532,\n",
       " 1: 0.36220399817757487,\n",
       " 2: 0.36220399817757487,\n",
       " 3: 0.36220399817757487,\n",
       " 4: 0.36220399817757487,\n",
       " 5: 0.358581961957795,\n",
       " 6: 0.3259836068884889}"
      ]
     },
     "execution_count": 25,
     "metadata": {},
     "output_type": "execute_result"
    }
   ],
   "source": [
    "# Compute the Katz centrality of the nodes\n",
    "import networkx as nx\n",
    "import numpy as np\n",
    "\n",
    "A = np.array([\n",
    "    [0, 1, 1, 1, 1, 1, 1],\n",
    "    [1, 0, 1, 0, 0, 0, 0],\n",
    "    [1, 1, 0, 0, 0, 0, 0],\n",
    "    [1, 0, 0, 0, 1, 0, 0],\n",
    "    [1, 0, 0, 1, 0, 0, 0],\n",
    "    [1, 0, 0, 0, 0, 0, 0],\n",
    "    [1, 0, 0, 0, 0, 1, 0]\n",
    "]\n",
    "            )\n",
    "\n",
    "alpha = 0.1\n",
    "beta  = 1\n",
    "\n",
    "G = nx.from_numpy_matrix(A, create_using = nx.DiGraph)\n",
    "left_eigenvector = nx.katz_centrality(G, alpha = alpha, beta = beta)\n",
    "vals = np.array(list(left_eigenvector.values()))\n",
    "left_eigenvector"
   ]
  },
  {
   "cell_type": "code",
   "execution_count": 26,
   "metadata": {},
   "outputs": [
    {
     "data": {
      "text/plain": [
       "{0: 0.34304516922104655,\n",
       " 1: 0.12178517428468952,\n",
       " 2: 0.12178517428468952,\n",
       " 3: 0.12178517428468952,\n",
       " 4: 0.12178517428468952,\n",
       " 5: 0.09978782025635273,\n",
       " 6: 0.07002631338384244}"
      ]
     },
     "execution_count": 26,
     "metadata": {},
     "output_type": "execute_result"
    }
   ],
   "source": [
    "# Now compute the page-rank centrality for the same matrix\n",
    "from networkx.algorithms.link_analysis.pagerank_alg import pagerank\n",
    "\n",
    "alpha = 0.85\n",
    "vals = np.array(list(pagerank(G, alpha = alpha).values()))\n",
    "pagerank(G, alpha = alpha)"
   ]
  },
  {
   "cell_type": "markdown",
   "metadata": {},
   "source": [
    "Note: The first node (row 1) is a node with high centrality as every other node points to it. The last node (row 7) benefits in the case of Katz centrality by being one of the nodes that the first node is pointing to. The effect of this is seen to be diminished when we compute the page-rank centrality as the first node is pointing to every node and the last node is just one of the many."
   ]
  },
  {
   "cell_type": "markdown",
   "metadata": {},
   "source": [
    "## Hubs and authorities"
   ]
  },
  {
   "cell_type": "code",
   "execution_count": 30,
   "metadata": {},
   "outputs": [
    {
     "data": {
      "text/plain": [
       "({0: 0.25440103615406334,\n",
       "  1: 0.13175928388048821,\n",
       "  2: 0.13175928388048824,\n",
       "  3: 0.13175928388048821,\n",
       "  4: 0.13175928388048821,\n",
       "  5: 0.08680254444349544,\n",
       "  6: 0.13175928388048824},\n",
       " {0: 0.2544010361540634,\n",
       "  1: 0.13175928388048824,\n",
       "  2: 0.13175928388048821,\n",
       "  3: 0.13175928388048821,\n",
       "  4: 0.13175928388048821,\n",
       "  5: 0.13175928388048824,\n",
       "  6: 0.08680254444349543})"
      ]
     },
     "execution_count": 30,
     "metadata": {},
     "output_type": "execute_result"
    }
   ],
   "source": [
    "# Compute the hub scores of each node\n",
    "# A hub is a node that points to many important authorities\n",
    "# An authority is one that has many hubs pointing to it\n",
    "\n",
    "from networkx.algorithms.link_analysis.hits_alg import hits\n",
    "\n",
    "A = np.array([\n",
    "    [0, 1, 1, 1, 1, 1, 1],\n",
    "    [1, 0, 1, 0, 0, 0, 0],\n",
    "    [1, 1, 0, 0, 0, 0, 0],\n",
    "    [1, 0, 0, 0, 1, 0, 0],\n",
    "    [1, 0, 0, 1, 0, 0, 0],\n",
    "    [1, 0, 0, 0, 0, 0, 0],\n",
    "    [1, 0, 0, 0, 0, 1, 0]\n",
    "]\n",
    ")\n",
    "\n",
    "G = nx.from_numpy_matrix(A, create_using = nx.DiGraph)\n",
    "hubs, authorities = hits(G)\n",
    "\n",
    "hubs, authorities"
   ]
  }
 ],
 "metadata": {
  "kernelspec": {
   "display_name": "Python 3",
   "language": "python",
   "name": "python3"
  },
  "language_info": {
   "codemirror_mode": {
    "name": "ipython",
    "version": 3
   },
   "file_extension": ".py",
   "mimetype": "text/x-python",
   "name": "python",
   "nbconvert_exporter": "python",
   "pygments_lexer": "ipython3",
   "version": "3.8.11"
  },
  "toc": {
   "base_numbering": 1,
   "nav_menu": {},
   "number_sections": true,
   "sideBar": true,
   "skip_h1_title": false,
   "title_cell": "Table of Contents",
   "title_sidebar": "Contents",
   "toc_cell": false,
   "toc_position": {},
   "toc_section_display": true,
   "toc_window_display": false
  }
 },
 "nbformat": 4,
 "nbformat_minor": 2
}
