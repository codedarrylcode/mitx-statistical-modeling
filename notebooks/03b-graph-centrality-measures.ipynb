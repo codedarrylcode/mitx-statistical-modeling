{
 "cells": [
  {
   "cell_type": "markdown",
   "metadata": {},
   "source": [
    "# Graph Centrality Measures\n",
    "Finding important nodes in a network\n",
    "<hr>"
   ]
  },
  {
   "cell_type": "markdown",
   "metadata": {},
   "source": [
    "**Centrality Measures**<br>\n",
    "Captures the importance of a node in a network. For example, degrees (in/out degree), propagated degree (e.g. if friends of my friends are also important, i.e. a node has a large centrality has neighbours that have large centrality), closeness, betweenness (where removal may break the network) of networks.\n",
    "\n",
    "1. **Degree centrality**\n",
    "\n",
    "    For undirected graphs, the degree $k_i$ of node $i$ is the number of edges\n",
    "    \n",
    "    - Undirected graphs: $k_i = \\sum_{j} A_{ij}$\n",
    "    - Directed graphs: in-degree ($k_{i}^{in} = \\sum_{j} A_{ji}$) and out-degree ($k_{i}^{out} = \\sum_{j} A_{ij}$)\n",
    "    \n",
    "    Simple and intuitive: Individuals with more connections have more *influence* and access to information. But does not capture the importance of their connections.\n",
    "    \n",
    "    \n",
    "2. **Closeness centrality**\n",
    "    \n",
    "    Tracks how close a node is to any other node, by computing the inverse of the average distance to all nodes, i.e small average distance is equivalent to high closeness\n",
    "    \n",
    "    $C_i = (\\frac{1}{n-1} \\sum_{j \\neq i} d_{ij})^{-1}$\n",
    "    \n",
    "    where $d_{ij}$ is the distance between nodes $i$ and $j$ and is calculated by computing the number of walks required to go from node $i$ to $j$ in its shortest path\n",
    "    \n",
    "    Harmonic centrality helps with disconnected networks where $d_{ij}$ is infinity for disconnected nodes.\n",
    "    \n",
    "    $H_i = \\frac{1}{n-1} \\sum_{j \\neq i} \\frac{1}{d_{ij}}$, which translates to zero for disconnected nodes but gives more weight to small distances\n",
    "    \n",
    "    \n",
    "\n",
    "3. **Betweeness centrality**\n",
    "    \n",
    "    Measures the extent to which a node lies on paths between other nodes:\n",
    "    \n",
    "    $B_i = \\frac{1}{n^{-2}} \\sum_{s, t} \\frac{n_{st}^i}{g_{st}}$\n",
    "    \n",
    "    where $n_{st}^i$ is the number of shortest paths between $s$ and $t$ that passes through $i$, and $g_{st}$ is the total number of shortest paths between $s$ and $t$\n",
    "    \n",
    "\n",
    "4. **Eigenvector centrality**\n",
    "\n",
    "    *If the connected nodes of the node $i$ are important...*\n",
    "    \n",
    "    The eigenvector centrality of a node is the weighted importance of the nodes pointing to it (left eigenvector, $x^T A$) or the nodes that it points to (right eigenvector, $Ax$). The eigenvector centrality of a directed graph is the eigenvector, $v$, with the largest eigenvalue. \n",
    "    \n",
    "    Then, the eigenvector centrality of node $i$ is the value at $i^{th}$ index of $v$ and is denoted $v_i$\n",
    "        \n",
    "    Recap: For a matrix of size $n$ x $n$, a value $\\lambda$ is an eigenvalue that corresponds to an eigenvecotr $x$, if and only if, $Ax = \\lambda x$.\n",
    "    \n",
    "    The interpretation of eigenvector centrality is that the ranking of a particular node $i$ satisfies:\n",
    "    \n",
    "    $\\sum_{j} v_j A_{ji} = \\lambda_{max} v_i$\n",
    "    \n",
    "    and this implies\n",
    "    \n",
    "    $v_i = \\frac{1}{\\lambda_{max}} \\sum_{j} v_j A_{ij}$\n",
    "\n",
    "<hr>\n",
    "\n",
    "**Topic 2**\n",
    "\n",
    "\n",
    "<hr>"
   ]
  },
  {
   "cell_type": "markdown",
   "metadata": {},
   "source": [
    "# Basic code\n",
    "A `minimal, reproducible example`"
   ]
  },
  {
   "cell_type": "code",
   "execution_count": null,
   "metadata": {},
   "outputs": [],
   "source": []
  }
 ],
 "metadata": {
  "kernelspec": {
   "display_name": "Python 3",
   "language": "python",
   "name": "python3"
  },
  "language_info": {
   "codemirror_mode": {
    "name": "ipython",
    "version": 3
   },
   "file_extension": ".py",
   "mimetype": "text/x-python",
   "name": "python",
   "nbconvert_exporter": "python",
   "pygments_lexer": "ipython3",
   "version": "3.7.4"
  },
  "toc": {
   "base_numbering": 1,
   "nav_menu": {},
   "number_sections": true,
   "sideBar": true,
   "skip_h1_title": false,
   "title_cell": "Table of Contents",
   "title_sidebar": "Contents",
   "toc_cell": false,
   "toc_position": {},
   "toc_section_display": true,
   "toc_window_display": false
  }
 },
 "nbformat": 4,
 "nbformat_minor": 2
}
