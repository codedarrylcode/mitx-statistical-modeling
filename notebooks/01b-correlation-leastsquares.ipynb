{
 "cells": [
  {
   "cell_type": "markdown",
   "metadata": {},
   "source": [
    "# Correlation / Least Squares Regression\n",
    "*+ Non-linear regression, Regularization*\n",
    "\n",
    "<hr>"
   ]
  },
  {
   "cell_type": "markdown",
   "metadata": {},
   "source": [
    "**Mathematical definition of correlation**<br>\n",
    "> Correlation measures the linear association between two variables\n",
    "\n",
    "$Corr(X, Y) = \\frac{Cov(X, Y)}{S_x \\cdot S_y}$ <br>\n",
    "where $S_x, S_y$ is the unbiased estimator of the standard deviation of X and Y, i.e. estimated with [Bessel's Correction](https://en.wikipedia.org/wiki/Bessel%27s_correction):\n",
    "$S_x = \\frac{1}{N-1} \\sum (X_i - \\bar{X}$)\n",
    "\n",
    "```python\n",
    "# Use ddof = 1, for an unbiased estimator\n",
    "S_x = np.std(X, ddof = 1)\n",
    "```\n",
    "<hr>\n",
    "\n",
    "**How does it relate to regression?**<br>\n",
    "\n",
    "For a given $Y = B_1X + B_0$, <br>\n",
    "\n",
    "$B_1 = Corr(X,Y) \\cdot \\frac{S_y}{S_x} = \\frac{Cov(X, Y)}{S_x^2}$<br>\n",
    "$E[B_0] = E[Y] - B_1E[X]$\n",
    "\n",
    "<hr>\n",
    "\n",
    "**Non-linear regression**<br>\n",
    "Given a non-linear relationship between two variables, use a transformation such that the transformed variables, $X', Y'$ forms a linear relationship $Y' = k X' + \\omega$\n",
    "\n",
    "One possible transformation is the `Natural log on both sides`\n",
    "\n",
    "Tips:\n",
    "- Strong correlation observed between two variables needs to be checked with residual diagnostics (QQ plot, KS-test, etc)\n",
    "- If residuals are non-Gaussian, possible non-linear transformation: consider applying natural log transformation to variables and response\n",
    "- Transform the variables back into $X, Y$ and establish the non-linear relationship\n",
    "\n",
    "Suppose, $\\ln Y = k \\ln X + \\ln \\omega$<br>\n",
    "then, $Y = e^{k \\ln x + \\ln \\omega}$<br>\n",
    "finally, $Y = x^k \\cdot \\omega$\n",
    "\n",
    "Consider trying out `scipy.optimize.curve_fit` to fit a non-linear relationship to determine the coefficients\n",
    "\n",
    "<hr>\n",
    "\n",
    "**Multivariate Regression**<br>\n",
    "_Using Ordinary Least Squares (OLS)_\n",
    "\n",
    "Suppose a multivariate model, $Y = X \\beta$, then, least-squares:<br>\n",
    "\n",
    "$\\displaystyle\\arg \\min_{\\substack{\\beta}} \\lVert Y - X \\beta\\rVert ^2$\n",
    "\n",
    "To solve for $\\beta$, set $X\\beta - Y = 0$<br>\n",
    "\n",
    "$X\\beta = Y$<br>\n",
    "$X^T X \\beta = X^T Y$\n",
    "\n",
    "If $X^T X$ is invertible<sup>1</sup>, then $(X^T X)^{-1} X^T X \\beta = (X^T X)^{-1} X^T Y$\n",
    "\n",
    "$\\therefore \\beta = (X^T X)^{-1} X^T Y$, which is a linear transformation of Y to $\\beta$\n",
    "\n",
    "\n",
    "<sup>1</sup> This is why $X$ has to be non-singular, i.e. an invertible matrix that has full rank (independent variables)\n",
    "\n",
    "<hr>\n",
    "\n",
    "**Variable Selection, by Regularization**<br>\n",
    "_by L1, L2 norm_\n",
    "\n",
    "When there are a large number of dimensions (D >> N), add a regularization term in the loss function to control for the number of dimensions used in the model.\n",
    "\n",
    "*L2*:<br>\n",
    "Penalizes large coefficients and results in a model where all coefficients are kept small and prevents overfitting\n",
    "\n",
    "Minimize $\\sum_{i=1}^{N} (y_i - \\hat{y}) + \\lambda \\lVert B_j \\rVert^2$\n",
    "\n",
    "*L1 (LASSO: least absolute shrinkage and selection operator)*:<br>\n",
    "Helps to select variables as it shrinks coefficients on variables with little predictive value to zero and therefore effectively removes them from the model\n",
    "\n",
    "Minimize $\\sum_{i=1}^{N} (y_i - \\hat{y}) + \\lambda \\lVert B_j \\rVert_1$\n",
    "\n",
    "where $\\lVert B_j \\rVert_1 = \\sum_{j=1}^{D} \\lvert B_j \\rvert$ \n",
    "\n",
    "**Variable Selection, by Significance**<br>\n",
    "Run a t-test on all variables with a null hypothesis that $B_j = 0$\n",
    "\n",
    "Test-statistic, $T = \\frac{\\hat{B_j} - B_j}{\\hat{\\sigma} \\Sigma_j}$\n",
    "\n",
    "where $\\hat{\\sigma}^2 = \\frac{\\lVert Y - \\hat{y} \\rVert^2}{N-d}$ and $\\Sigma_j^2$ is the jth-diagonal element of $(X^T X)^{-1}$\n",
    "\n",
    "<hr>"
   ]
  },
  {
   "cell_type": "markdown",
   "metadata": {},
   "source": [
    "# Basic code\n",
    "A `minimal, reproducible example`"
   ]
  },
  {
   "cell_type": "markdown",
   "metadata": {
    "heading_collapsed": true
   },
   "source": [
    "## Compute covariance/correlation"
   ]
  },
  {
   "cell_type": "code",
   "execution_count": 1,
   "metadata": {
    "ExecuteTime": {
     "end_time": "2021-09-11T10:18:29.758719Z",
     "start_time": "2021-09-11T10:18:29.322217Z"
    },
    "code_folding": [
     0
    ],
    "hidden": true
   },
   "outputs": [],
   "source": [
    "# Raw data\n",
    "\n",
    "import numpy as np\n",
    "\n",
    "Xs = np.array([0.0339, 0.0423, 0.213, 0.257, 0.273, 0.273, 0.450, 0.503, 0.503, \\\n",
    "0.637, 0.805, 0.904, 0.904, 0.910, 0.910, 1.02, 1.11, 1.11, 1.41, \\\n",
    "1.72, 2.03, 2.02, 2.02, 2.02])\n",
    "\n",
    "Ys = np.array([-19.3, 30.4, 38.7, 5.52, -33.1, -77.3, 398.0, 406.0, 436.0, 320.0, 373.0, \\\n",
    "93.9, 210.0, 423.0, 594.0, 829.0, 718.0, 561.0, 608.0, 1.04E3, 1.10E3, \\\n",
    "840.0, 801.0, 519.0])\n",
    "\n",
    "N = 24"
   ]
  },
  {
   "cell_type": "code",
   "execution_count": 2,
   "metadata": {
    "ExecuteTime": {
     "end_time": "2021-09-11T10:18:29.768899Z",
     "start_time": "2021-09-11T10:18:29.761480Z"
    },
    "code_folding": [
     0
    ],
    "hidden": true
   },
   "outputs": [
    {
     "name": "stdout",
     "output_type": "stream",
     "text": [
      "Sample Mean, X:  0.92\n",
      "Sample Mean, Y:  425.618\n",
      "Cov(X, Y):\t 191.207\n"
     ]
    }
   ],
   "source": [
    "# Compute covariance by hand\n",
    "\n",
    "x_bar = np.mean(Xs)\n",
    "y_bar = np.mean(Ys)\n",
    "cov = 1/(N-1) * np.sum((Xs - x_bar) * (Ys - y_bar))\n",
    "\n",
    "print('Sample Mean, X: ', np.around(x_bar, 3)) \n",
    "print('Sample Mean, Y: ', np.around(y_bar, 3))\n",
    "print('Cov(X, Y):\\t', np.around(cov, 3))"
   ]
  },
  {
   "cell_type": "code",
   "execution_count": 3,
   "metadata": {
    "ExecuteTime": {
     "end_time": "2021-09-11T10:18:29.779222Z",
     "start_time": "2021-09-11T10:18:29.773952Z"
    },
    "code_folding": [
     0
    ],
    "hidden": true
   },
   "outputs": [
    {
     "name": "stdout",
     "output_type": "stream",
     "text": [
      "Corr(X, Y):\t 0.8391\n"
     ]
    }
   ],
   "source": [
    "# Compute correlation by hand, use ddof = 1 for unbiased estimator of SD\n",
    "\n",
    "corr = cov / (np.std(Xs, ddof = 1) * np.std(Ys, ddof = 1))\n",
    "print('Corr(X, Y):\\t', np.around(corr, 4))"
   ]
  },
  {
   "cell_type": "code",
   "execution_count": 4,
   "metadata": {
    "ExecuteTime": {
     "end_time": "2021-09-11T10:18:29.790357Z",
     "start_time": "2021-09-11T10:18:29.783530Z"
    },
    "code_folding": [
     0
    ],
    "hidden": true
   },
   "outputs": [
    {
     "name": "stdout",
     "output_type": "stream",
     "text": [
      "Y = 13.610 + 447.871*X\n"
     ]
    }
   ],
   "source": [
    "# Compute Y = B0 + B1*X\n",
    "\n",
    "# For every change of 1 unit in X, what is the expected change of units in Y?\n",
    "b1 = corr * np.std(Ys, ddof = 1) / np.std(Xs, ddof = 1)\n",
    "\n",
    "# What is the expected residuals not predicted by X?\n",
    "b0 = np.mean(Ys) - b1*np.mean(Xs)\n",
    "\n",
    "print(f'Y = {b0:.3f} + {b1:.3f}*X')"
   ]
  },
  {
   "cell_type": "markdown",
   "metadata": {
    "heading_collapsed": true
   },
   "source": [
    "## Non-linear regression"
   ]
  },
  {
   "cell_type": "code",
   "execution_count": 5,
   "metadata": {
    "ExecuteTime": {
     "end_time": "2021-09-11T10:18:29.798917Z",
     "start_time": "2021-09-11T10:18:29.793178Z"
    },
    "code_folding": [
     0
    ],
    "hidden": true
   },
   "outputs": [],
   "source": [
    "# Raw data\n",
    "\n",
    "import numpy as np\n",
    "\n",
    "Xs = np.array([ 0.387, 0.723, 1.00, 1.52, 5.20, 9.54, 19.2, 30.1, 39.5 ]) # Astronomical units, mean distance from planet to sun\n",
    "Ys = np.array([ 0.241, 0.615, 1.00, 1.88, 11.9, 29.5, 84.0, 165.0, 248 ]) # Earth years\n",
    "N  = 9                                                                    # Planets"
   ]
  },
  {
   "cell_type": "code",
   "execution_count": 6,
   "metadata": {
    "ExecuteTime": {
     "end_time": "2021-09-11T10:18:30.148762Z",
     "start_time": "2021-09-11T10:18:29.801785Z"
    },
    "code_folding": [
     0
    ],
    "hidden": true
   },
   "outputs": [
    {
     "data": {
      "text/plain": [
       "<Figure size 640x480 with 1 Axes>"
      ]
     },
     "metadata": {},
     "output_type": "display_data"
    }
   ],
   "source": [
    "# Basic plot\n",
    "\n",
    "import matplotlib.pyplot as plt\n",
    "\n",
    "plt.plot(Xs, Ys)\n",
    "plt.show()"
   ]
  },
  {
   "cell_type": "code",
   "execution_count": 7,
   "metadata": {
    "ExecuteTime": {
     "end_time": "2021-09-11T10:18:30.158693Z",
     "start_time": "2021-09-11T10:18:30.153947Z"
    },
    "code_folding": [
     0
    ],
    "hidden": true
   },
   "outputs": [
    {
     "name": "stdout",
     "output_type": "stream",
     "text": [
      "Correlation, Distance to Sun (X) vs Earth Years (Y): 0.989\n"
     ]
    }
   ],
   "source": [
    "# Calculate correlation\n",
    "\n",
    "x_bar, y_bar = np.mean(Xs), np.mean(Ys)\n",
    "S_x, S_y = np.std(Xs, ddof = 1), np.std(Ys, ddof = 1)\n",
    "\n",
    "cov  = 1/(N-1) * np.sum((Xs - x_bar) * (Ys - y_bar))\n",
    "corr = cov/(S_x*S_y)\n",
    "\n",
    "print(f'Correlation, Distance to Sun (X) vs Earth Years (Y): {corr:.3f}')"
   ]
  },
  {
   "cell_type": "code",
   "execution_count": 8,
   "metadata": {
    "ExecuteTime": {
     "end_time": "2021-09-11T10:18:30.166812Z",
     "start_time": "2021-09-11T10:18:30.162397Z"
    },
    "code_folding": [
     0
    ],
    "hidden": true
   },
   "outputs": [
    {
     "name": "stdout",
     "output_type": "stream",
     "text": [
      "Y = 6.109X + (-12.504)\n"
     ]
    }
   ],
   "source": [
    "# Form linear equation\n",
    "\n",
    "b1 = corr * S_y / S_x\n",
    "b0 = y_bar - b1*x_bar\n",
    "\n",
    "print(f'Y = {b1:.3f}X + ({b0:.3f})')"
   ]
  },
  {
   "cell_type": "code",
   "execution_count": 9,
   "metadata": {
    "ExecuteTime": {
     "end_time": "2021-09-11T10:18:30.348919Z",
     "start_time": "2021-09-11T10:18:30.170227Z"
    },
    "code_folding": [
     0
    ],
    "hidden": true
   },
   "outputs": [
    {
     "data": {
      "image/png": "[encoded data removed]",
      "text/plain": [
       "<Figure size 432x288 with 1 Axes>"
      ]
     },
     "metadata": {
      "needs_background": "light"
     },
     "output_type": "display_data"
    }
   ],
   "source": [
    "# Plot residuals against X, predicted Y\n",
    "\n",
    "pred_y = b1*Xs + b0\n",
    "resids = Ys - pred_y\n",
    "\n",
    "plt.plot(Xs, resids)\n",
    "plt.plot(pred_y, resids)\n",
    "plt.legend(['X vs Residuals', 'Prediction vs Residuals'])\n",
    "plt.show()"
   ]
  },
  {
   "cell_type": "code",
   "execution_count": 10,
   "metadata": {
    "ExecuteTime": {
     "end_time": "2021-09-11T10:18:31.904795Z",
     "start_time": "2021-09-11T10:18:30.351330Z"
    },
    "code_folding": [
     0
    ],
    "hidden": true
   },
   "outputs": [
    {
     "data": {
      "image/png": "[encoded data removed]",
      "text/plain": [
       "<Figure size 864x432 with 2 Axes>"
      ]
     },
     "metadata": {
      "needs_background": "light"
     },
     "output_type": "display_data"
    }
   ],
   "source": [
    "# QQ-plot to check if the marginal distributions of X and Y are normally distributed\n",
    "\n",
    "import statsmodels.api as sm\n",
    "\n",
    "fig = plt.figure(figsize = (12,6))\n",
    "ax1 = fig.add_subplot(121)\n",
    "ax2 = fig.add_subplot(122)\n",
    "\n",
    "sm.qqplot(Xs, line='45', ax = ax1)\n",
    "ax1.set_title(\"X distribution\")\n",
    "\n",
    "sm.qqplot(Ys, line='45', ax = ax2)\n",
    "ax2.set_title(\"Y distribution\")\n",
    "plt.show()"
   ]
  },
  {
   "cell_type": "code",
   "execution_count": 11,
   "metadata": {
    "ExecuteTime": {
     "end_time": "2021-09-11T10:18:32.068663Z",
     "start_time": "2021-09-11T10:18:31.908062Z"
    },
    "code_folding": [
     0
    ],
    "hidden": true
   },
   "outputs": [
    {
     "data": {
      "image/png": "[encoded data removed]",
      "text/plain": [
       "<Figure size 432x288 with 1 Axes>"
      ]
     },
     "metadata": {
      "needs_background": "light"
     },
     "output_type": "display_data"
    }
   ],
   "source": [
    "# Use a non-linear transformation to improve the fit\n",
    "\n",
    "pred_y = b1*np.log(Xs) + b0\n",
    "resids = np.log(Ys) - pred_y\n",
    "\n",
    "plt.plot(np.log(Xs), resids)\n",
    "plt.plot(pred_y, resids)\n",
    "plt.legend(['X vs Residuals', 'Prediction vs Residuals'])\n",
    "plt.show()"
   ]
  },
  {
   "cell_type": "code",
   "execution_count": 12,
   "metadata": {
    "ExecuteTime": {
     "end_time": "2021-09-11T10:18:32.080836Z",
     "start_time": "2021-09-11T10:18:32.070600Z"
    },
    "code_folding": [
     0
    ],
    "hidden": true,
    "scrolled": true
   },
   "outputs": [
    {
     "name": "stdout",
     "output_type": "stream",
     "text": [
      "Correlation, natural log of Distance to Sun (X) vs natural log of Earth Years (Y): 1.000\n",
      "----------------------------------------------------------------------------------------------------\n",
      "Regression function, post-transformation: \n",
      "\n",
      "Y' = 1.500X' + (0.001)\n",
      "where Y', X' = np.log(Y), np.log(X)\n"
     ]
    }
   ],
   "source": [
    "# Find the coefficients given transformed variables\n",
    "\n",
    "x_bar, y_bar = np.mean(np.log(Xs)), np.mean(np.log(Ys))\n",
    "S_x, S_y = np.std(np.log(Xs), ddof = 1), np.std(np.log(Ys), ddof = 1)\n",
    "\n",
    "cov  = 1/(N-1) * np.sum((np.log(Xs) - x_bar) * (np.log(Ys) - y_bar))\n",
    "corr = cov/(S_x*S_y)\n",
    "\n",
    "print(f'Correlation, natural log of Distance to Sun (X) vs natural log of Earth Years (Y): {corr:.3f}')\n",
    "\n",
    "b1 = corr * S_y / S_x\n",
    "b0 = y_bar - b1*x_bar\n",
    "\n",
    "print('-'*100)\n",
    "print('Regression function, post-transformation:', '\\n')\n",
    "print(f\"Y' = {b1:.3f}X' + ({b0:.3f})\")\n",
    "print(\"where Y', X' = np.log(Y), np.log(X)\")"
   ]
  },
  {
   "cell_type": "markdown",
   "metadata": {
    "heading_collapsed": true
   },
   "source": [
    "## Multivariate Regression"
   ]
  },
  {
   "cell_type": "code",
   "execution_count": 13,
   "metadata": {
    "ExecuteTime": {
     "end_time": "2021-09-11T10:18:32.174069Z",
     "start_time": "2021-09-11T10:18:32.085732Z"
    },
    "code_folding": [
     0
    ],
    "hidden": true
   },
   "outputs": [],
   "source": [
    "# Raw Data\n",
    "\n",
    "import numpy as np\n",
    "\n",
    "LogPlanetMass = np.array([-0.31471074,  1.01160091,  0.58778666,  0.46373402, -0.01005034,\n",
    "         0.66577598, -1.30933332, -0.37106368, -0.40047757, -0.27443685,\n",
    "         1.30833282, -0.46840491, -1.91054301,  0.16551444,  0.78845736,\n",
    "        -2.43041846,  0.21511138,  2.29253476, -2.05330607, -0.43078292,\n",
    "        -4.98204784, -0.48776035, -1.69298258, -0.08664781, -2.28278247,\n",
    "         3.30431931, -3.27016912,  1.14644962, -3.10109279, -0.61248928])\n",
    "\n",
    "LogPlanetRadius = np.array([ 0.32497786,  0.34712953,  0.14842001,  0.45742485,  0.1889661 ,\n",
    "         0.06952606,  0.07696104,  0.3220835 ,  0.42918163, -0.05762911,\n",
    "         0.40546511,  0.19227189, -0.16251893,  0.45107562,  0.3825376 ,\n",
    "        -0.82098055,  0.10436002,  0.0295588 , -1.17921515,  0.55961579,\n",
    "        -2.49253568,  0.11243543, -0.72037861,  0.36464311, -0.46203546,\n",
    "         0.13976194, -2.70306266,  0.12221763, -2.41374014,  0.35627486])\n",
    "\n",
    "LogPlanetOrbit = np.array([-2.63108916, -3.89026151, -3.13752628, -2.99633245, -3.12356565,\n",
    "        -2.33924908, -2.8507665 , -3.04765735, -2.84043939, -3.19004544,\n",
    "        -3.14655516, -3.13729584, -3.09887303, -3.09004295, -3.16296819,\n",
    "        -2.3227878 , -3.77661837, -2.52572864, -4.13641734, -3.05018846,\n",
    "        -2.40141145, -3.14795149, -0.40361682, -3.2148838 , -2.74575207,\n",
    "        -3.70014265, -1.98923527, -3.35440922, -1.96897409, -2.99773428])\n",
    "\n",
    "StarMetallicity = np.array([ 0.11 , -0.002, -0.4  ,  0.01 ,  0.15 ,  0.22 , -0.01 ,  0.02 ,\n",
    "        -0.06 , -0.127,  0.   ,  0.12 ,  0.27 ,  0.09 , -0.077,  0.3  ,\n",
    "         0.14 , -0.07 ,  0.19 , -0.02 ,  0.12 ,  0.251,  0.07 ,  0.16 ,\n",
    "         0.19 ,  0.052, -0.32 ,  0.258,  0.02 , -0.17 ])\n",
    "\n",
    "LogStarMass = np.array([ 0.27002714,  0.19144646, -0.16369609,  0.44468582,  0.19227189,\n",
    "         0.01291623,  0.0861777 ,  0.1380213 ,  0.49469624, -0.43850496,\n",
    "         0.54232429,  0.02469261,  0.07325046,  0.42133846,  0.2592826 ,\n",
    "        -0.09431068, -0.24846136, -0.12783337, -0.07364654,  0.26159474,\n",
    "         0.07603469, -0.07796154,  0.09440068,  0.07510747,  0.17395331,\n",
    "         0.28893129, -0.21940057,  0.02566775, -0.09211529,  0.16551444])\n",
    "\n",
    "LogStarAge = np.array([ 1.58103844,  1.06471074,  2.39789527,  0.72754861,  0.55675456,\n",
    "         1.91692261,  1.64865863,  1.38629436,  0.77472717,  1.36097655,\n",
    "         0.        ,  1.80828877,  1.7837273 ,  0.64185389,  0.69813472,\n",
    "         2.39789527, -0.35667494,  1.79175947,  1.90210753,  1.39624469,\n",
    "         1.84054963,  2.19722458,  1.89761986,  1.84054963,  0.74193734,\n",
    "         0.55961579,  1.79175947,  0.91629073,  2.17475172,  1.36097655])\n",
    "\n",
    "N = 30"
   ]
  },
  {
   "cell_type": "code",
   "execution_count": 14,
   "metadata": {
    "ExecuteTime": {
     "end_time": "2021-09-11T10:18:32.186315Z",
     "start_time": "2021-09-11T10:18:32.177525Z"
    },
    "code_folding": [
     0
    ],
    "hidden": true
   },
   "outputs": [
    {
     "name": "stdout",
     "output_type": "stream",
     "text": [
      "[ 0.15379303  1.40214538 -0.14099818 -1.59951364 -0.95610919 -0.46176234]\n"
     ]
    }
   ],
   "source": [
    "# Solve for Beta\n",
    "y    = np.copy(LogPlanetMass)\n",
    "X    = np.array([np.zeros(len(y))+1, LogPlanetRadius, LogPlanetOrbit, StarMetallicity, LogStarMass, LogStarAge]).T\n",
    "Beta = np.linalg.inv(X.T.dot(X)).dot(X.T).dot(y)\n",
    "\n",
    "print(Beta)"
   ]
  },
  {
   "cell_type": "code",
   "execution_count": 15,
   "metadata": {
    "ExecuteTime": {
     "end_time": "2021-09-11T10:18:32.201348Z",
     "start_time": "2021-09-11T10:18:32.188873Z"
    },
    "code_folding": [
     0
    ],
    "hidden": true
   },
   "outputs": [
    {
     "name": "stdout",
     "output_type": "stream",
     "text": [
      "[0.912757 0.000054 0.698599 0.21311  0.400457 0.225953]\n",
      "[0.912757 0.000054 0.698599 0.21311  0.400457 0.225953]\n"
     ]
    }
   ],
   "source": [
    "# Compute the test statistic for all Betas\n",
    "\n",
    "import numpy as np\n",
    "np.set_printoptions(precision=6, suppress = True)\n",
    "\n",
    "from scipy.stats import t\n",
    "\n",
    "d         = len(Beta)\n",
    "dof       = N - d\n",
    "diagonal  = np.diag(np.linalg.inv(X.T.dot(X)))\n",
    "sigma_hat = np.sqrt((y - X.dot(Beta)).T.dot((y - X.dot(Beta))) / dof)\n",
    "T         = np.array([(Beta[j] - 0) / (sigma_hat * np.sqrt(diagonal[j])) for j in range(d)])\n",
    "P         = np.array([1 - p if p >= 0.5 else p for p in t.cdf(T, df = dof)])*2\n",
    "P_alt     = t.sf(np.abs(T), df = dof)*2\n",
    "\n",
    "print(P)\n",
    "print(P_alt)"
   ]
  }
 ],
 "metadata": {
  "kernelspec": {
   "display_name": "Python 3",
   "language": "python",
   "name": "python3"
  },
  "language_info": {
   "codemirror_mode": {
    "name": "ipython",
    "version": 3
   },
   "file_extension": ".py",
   "mimetype": "text/x-python",
   "name": "python",
   "nbconvert_exporter": "python",
   "pygments_lexer": "ipython3",
   "version": "3.7.4"
  },
  "toc": {
   "base_numbering": 1,
   "nav_menu": {},
   "number_sections": true,
   "sideBar": true,
   "skip_h1_title": false,
   "title_cell": "Table of Contents",
   "title_sidebar": "Contents",
   "toc_cell": false,
   "toc_position": {},
   "toc_section_display": true,
   "toc_window_display": false
  }
 },
 "nbformat": 4,
 "nbformat_minor": 2
}
